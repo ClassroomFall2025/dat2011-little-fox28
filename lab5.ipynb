{
 "cells": [
  {
   "cell_type": "markdown",
   "id": "fdeff819",
   "metadata": {},
   "source": [
    "# Sinh Viên thực hiện Lab 5 ở Đây"
   ]
  },
  {
   "cell_type": "markdown",
   "id": "acc5d7dc",
   "metadata": {},
   "source": [
    "## Lab 5 - Bài 1"
   ]
  },
  {
   "cell_type": "code",
   "id": "001e0507",
   "metadata": {},
   "source": [
    "# Code lab 5 bài 1 ở đây\n",
    "from dat2011_little_fox28.src.python.product import HandleProduct\n",
    "\n",
    "handle_product = HandleProduct()\n",
    "handle_product.handle_create_product()\n",
    "\n",
    "print(handle_product.export_products())"
   ],
   "outputs": [],
   "execution_count": null
  },
  {
   "cell_type": "markdown",
   "id": "c0835310",
   "metadata": {},
   "source": [
    "## Lab 5 - Bài 2"
   ]
  },
  {
   "cell_type": "code",
   "id": "fa9cb39f",
   "metadata": {},
   "source": [
    "# Code lab 5  bài 2 ở đây\n",
    "from dat2011_little_fox28.src.python.product import HandleProduct\n",
    "\n",
    "handle_product = HandleProduct()\n",
    "handle_product.new_product(\"But bi\", 16000, 8000)\n",
    "handle_product.new_product(\"But chi\", 8000, 4000)\n",
    "\n",
    "handle_product.export_products()\n"
   ],
   "outputs": [],
   "execution_count": null
  },
  {
   "cell_type": "markdown",
   "id": "0f2483fe",
   "metadata": {},
   "source": [
    "## Lab 5 - Bài 3"
   ]
  },
  {
   "cell_type": "code",
   "id": "7034990b",
   "metadata": {},
   "source": [
    "# Code lab 5  bài 3 ở đây\n",
    "from dat2011_little_fox28.src.python.product import HandleProduct\n",
    "\n",
    "handle_product = HandleProduct()"
   ],
   "outputs": [],
   "execution_count": null
  },
  {
   "cell_type": "markdown",
   "id": "d36ea3d3",
   "metadata": {},
   "source": [
    "## Lab 5 - Bài 4"
   ]
  },
  {
   "cell_type": "code",
   "id": "4c707ec1",
   "metadata": {},
   "source": [
    "# code lab 5 bài 4 ở đây\n",
    "from dat2011_little_fox28.src.python.product import HandleProduct\n",
    "\n",
    "handle_product = HandleProduct()"
   ],
   "outputs": [],
   "execution_count": null
  },
  {
   "cell_type": "markdown",
   "id": "e2b41d4a",
   "metadata": {},
   "source": [
    "## Lab 5 - Bài 5: bài tập làm thêm"
   ]
  },
  {
   "cell_type": "code",
   "id": "0e0172f7",
   "metadata": {},
   "source": [
    "# code lab 5  bài làm thêm ở đây\n",
    "from dat2011_little_fox28.src.python.menu import menu\n",
    "\n",
    "menu()"
   ],
   "outputs": [],
   "execution_count": null
  }
 ],
 "metadata": {
  "kernelspec": {
   "display_name": "Python 3",
   "language": "python",
   "name": "python3"
  },
  "language_info": {
   "name": "python",
   "version": "3.13.7"
  }
 },
 "nbformat": 4,
 "nbformat_minor": 5
}
