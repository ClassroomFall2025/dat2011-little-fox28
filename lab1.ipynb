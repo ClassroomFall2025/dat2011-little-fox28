{
 "cells": [
  {
   "cell_type": "markdown",
   "id": "fdeff819",
   "metadata": {},
   "source": [
    "# Sinh Viên thực hiện Lab 1 ở Đây"
   ]
  },
  {
   "cell_type": "markdown",
   "id": "acc5d7dc",
   "metadata": {},
   "source": [
    "## Lab 1 - Bài 1"
   ]
  },
  {
   "cell_type": "code",
   "id": "001e0507",
   "metadata": {
    "ExecuteTime": {
     "end_time": "2025-09-18T11:13:09.335837Z",
     "start_time": "2025-09-18T11:13:09.330166Z"
    }
   },
   "source": [
    "# Code lab 1 bài 1 ở đây\n",
    "print('Xin chào!') \n",
    "print('Tôi tên là Trần Hưng Thịnh.')\n",
    "print('Tôi đến từ Đà Nẵng.')"
   ],
   "outputs": [
    {
     "name": "stdout",
     "output_type": "stream",
     "text": [
      "Xin chào!\n",
      "Tôi tên là Trần Hưng Thịnh.\n",
      "Tôi đến từ Đà Nẵng.\n"
     ]
    }
   ],
   "execution_count": 3
  },
  {
   "cell_type": "markdown",
   "id": "c0835310",
   "metadata": {},
   "source": [
    "## Lab 1 - Bài 2"
   ]
  },
  {
   "cell_type": "code",
   "execution_count": null,
   "id": "fa9cb39f",
   "metadata": {},
   "outputs": [],
   "source": [
    "# Code lab 1  bài 2 ở đây\n",
    "from src.utils.handle_input_for_number import HandleInputForNumber\n",
    "\n",
    "class Rectangle(HandleInputForNumber):\n",
    "    \"\"\"Đối tượng tính chu vi và diện tích hình chữ nhật\"\"\"\n",
    "\n",
    "    def __init__(self):\n",
    "        super().__init__()\n",
    "\n",
    "    def calculation(self) -> None:\n",
    "        \"\"\"Tính chu vi và diện tích hình chữ nhật\"\"\"\n",
    "        self.handle_input()\n",
    "        print(f\"Diện tích hình chữ nhật: {self.area()}\")\n",
    "        print(f\"Chu vi hình chữ nhật: {self.perimeter()}\")\n",
    "\n",
    "    def area(self) -> float:\n",
    "        return self.getter_x() * self.getter_y()\n",
    "    \n",
    "    def perimeter(self) -> float:\n",
    "        return (self.getter_x() + self.getter_y()) * 2\n",
    "    \n",
    "if __name__ == \"__main__\":\n",
    "    rect = Rectangle()\n",
    "    rect.calculation()"
   ]
  },
  {
   "cell_type": "markdown",
   "id": "0f2483fe",
   "metadata": {},
   "source": [
    "## Lab 1 - Bài 3"
   ]
  },
  {
   "cell_type": "code",
   "id": "7034990b",
   "metadata": {
    "ExecuteTime": {
     "end_time": "2025-09-18T11:14:33.834667Z",
     "start_time": "2025-09-18T11:14:33.828785Z"
    }
   },
   "source": [
    "# Code lab 1  bài 3 ở đây\n",
    "def handle_read_file():\n",
    "    text = \"Thịnh\"\n",
    "    with open(\"src/public/poem.txt\", 'r', encoding='utf-8') as file:\n",
    "        for line in file:\n",
    "            print(line.replace(\"Sống\", f'{text}'), end=\"\")\n",
    "handle_read_file()"
   ],
   "outputs": [
    {
     "name": "stdout",
     "output_type": "stream",
     "text": [
      "Thịnh không giận, không hờn không oán trách\n",
      "Thịnh mỉm cười, với thử thách chông gai \n",
      "Thịnh vươn lên, theo kịp ánh ban mai \n",
      "Thịnh chan hòa, với những người chung sống.\n",
      "\n",
      "Thịnh là động, nhưng lòng luôn bất động\n",
      "Thịnh là thương, nhưng lòng chẳng vấn vương\n",
      "Thịnh yên vui, danh lợi mãi coi thường\n",
      "Tâm bất biến, giữa dòng đời vạn biến.\n",
      "\n",
      "Thịnh là động, nhưng lòng luôn bất động\n",
      "Thịnh là thương, nhưng lòng chẳng vấn vương\n",
      "Thịnh yên vui, danh lợi mãi coi thường\n",
      "Tâm bất biến, giữa dòng đời vạn biến."
     ]
    }
   ],
   "execution_count": 4
  },
  {
   "cell_type": "markdown",
   "id": "d36ea3d3",
   "metadata": {},
   "source": [
    "## Lab 1 - Bài 4"
   ]
  },
  {
   "cell_type": "code",
   "id": "4c707ec1",
   "metadata": {
    "ExecuteTime": {
     "end_time": "2025-09-18T11:21:16.892981Z",
     "start_time": "2025-09-18T11:21:09.246011Z"
    }
   },
   "source": [
    "# code lab 1 bài 4 ở đây\n",
    "import math\n",
    "def calculate_delta(a: float, b: float, c: float) -> float:\n",
    "    if a == 0:\n",
    "        raise ValueError(\"a phải khác 0\")\n",
    "    return (b * b) - 4 * a * c\n",
    "\n",
    "def cal_quadratic_equation():\n",
    "    a: float = float(input(\"Nhập số a: \"))\n",
    "    b: float = float(input(\"Nhập số b: \"))\n",
    "    c: float = float(input(\"Nhập số c: \"))\n",
    "\n",
    "    delta: float = calculate_delta(a, b, c)\n",
    "\n",
    "    print(f\"Delta: {delta}\")\n",
    "    print(f\"Căn Delta: {math.sqrt(delta)}\")\n",
    "    print(\"------------------------------\")\n",
    "    if delta < 0:\n",
    "        print(f\"Delta: {delta} - Phương trình có nghiệm phức\")\n",
    "    elif delta >= 0:\n",
    "        x1 = (-b + math.sqrt(delta)) / (2 * a)\n",
    "        x2 = (-b - math.sqrt(delta)) / (2 * a)\n",
    "        print(f\"Nghiệm x1: {x1}\")\n",
    "        print(f\"Nghiệm x2: {x2}\")\n",
    "    else:\n",
    "        print(f\"Delta: {delta}\")\n",
    "        print(f\"Căn Delta: {math.sqrt(delta)}\")\n",
    "\n",
    "\n",
    "cal_quadratic_equation()"
   ],
   "outputs": [
    {
     "name": "stdout",
     "output_type": "stream",
     "text": [
      "Delta: 1.0\n",
      "Căn Delta: 1.0\n",
      "------------------------------\n",
      "Nghiệm x1: 2.0\n",
      "Nghiệm x2: 1.0\n"
     ]
    }
   ],
   "execution_count": 7
  },
  {
   "cell_type": "markdown",
   "id": "e2b41d4a",
   "metadata": {},
   "source": [
    "## Lab 1 - Bài 5: bài tập làm thêm"
   ]
  },
  {
   "cell_type": "code",
   "execution_count": null,
   "id": "0e0172f7",
   "metadata": {},
   "outputs": [],
   "source": [
    "# code lab 1  bài làm thêm ở đây \n",
    "import math\n",
    "from src.utils.handle_input_for_number import HandleInputForNumber\n",
    "\n",
    "class Calculation(HandleInputForNumber):\n",
    "    \"\"\"\n",
    "        Đối tượng thực hiện các phép toán cơ bản.\n",
    "        Kiểu dữ liệu hỗ trợ: @int, @float.\n",
    "    \"\"\"\n",
    "    def __init__(self):\n",
    "        super().__init__()\n",
    "\n",
    "    # Basic calcualtion\n",
    "    def addition(self) -> float:\n",
    "        return math.fsum([self.getter_x(), self.getter_y()])\n",
    "    def subtraction(self) -> float:\n",
    "        return math.fsum([self.getter_x(), -self.getter_y()])\n",
    "    def multiplication(self) -> float:\n",
    "        if self.getter_x() == 0 or self.getter_y() == 0:\n",
    "            return 0\n",
    "        return math.prod([self.getter_x(), self.getter_y()])\n",
    "    def division(self) -> float:\n",
    "        if self.getter_x() == 0:\n",
    "            return 0\n",
    "        if self.getter_y() == 0:\n",
    "            return float('Một số không nên chia cho 0!')\n",
    "        return math.trunc(self.getter_y() / self.getter_x())\n",
    "    def division_with_remainder(self) -> float:\n",
    "        if self.getter_x() == 0:\n",
    "            return 0\n",
    "        if self.getter_y() == 0:\n",
    "            return float('Một số không nên chia cho 0!')\n",
    "        return math.remainder(self.getter_y(), self.getter_x())\n",
    "    \n",
    "    # Advance calculation\n",
    "    def exponentiation(self) -> float:\n",
    "        return math.pow(self.getter_x(), self.getter_y())\n",
    "    def square_root(self) -> float:\n",
    "        return math.sqrt(self.getter_x())\n",
    "    \n",
    "    # Trigonometric functions\n",
    "    def sine(self) -> float:\n",
    "        return math.sin(self.getter_x())\n",
    "    def cosine(self) -> float:\n",
    "        return math.cos(self.getter_x())\n",
    "    def tangent(self) -> float:\n",
    "        return math.tan(self.getter_x())\n",
    "    \n",
    "    # Logarithm functions\n",
    "    def log10(self) -> float:\n",
    "        return math.log10(self.getter_x())\n",
    "    def ln(self) -> float:\n",
    "        return math.log(self.getter_x())\n",
    "    def log_base(self) -> float:\n",
    "        return math.log(self.getter_x(), self.getter_y())"
   ]
  }
 ],
 "metadata": {
  "kernelspec": {
   "display_name": "Python 3",
   "language": "python",
   "name": "python3"
  },
  "language_info": {
   "codemirror_mode": {
    "name": "ipython",
    "version": 3
   },
   "file_extension": ".py",
   "mimetype": "text/x-python",
   "name": "python",
   "nbconvert_exporter": "python",
   "pygments_lexer": "ipython3",
   "version": "3.13.7"
  }
 },
 "nbformat": 4,
 "nbformat_minor": 5
}
