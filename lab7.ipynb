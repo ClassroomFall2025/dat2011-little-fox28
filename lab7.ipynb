{
 "cells": [
  {
   "metadata": {},
   "cell_type": "markdown",
   "source": "# Sinh Viên thực hiện Lab 7 ở Đây",
   "id": "7ad7f6c0bf02f299"
  },
  {
   "metadata": {},
   "cell_type": "markdown",
   "source": "## Lab 7 - Bài 1",
   "id": "3aaf743dbf06b9fe"
  },
  {
   "metadata": {
    "ExecuteTime": {
     "end_time": "2025-10-19T09:03:47.508185Z",
     "start_time": "2025-10-19T09:03:47.499692Z"
    }
   },
   "cell_type": "code",
   "source": [
    "from urllib3.filepost import writer\n",
    "\n",
    "# Code lab 7 bài 1 ở đây\n",
    "\n",
    "try:\n",
    "    file = open(\"src/public/Resource\", \"r\", encoding='utf-8')\n",
    "    reader = file.read()\n",
    "    print(reader)\n",
    "    file.close()\n",
    "except Exception as e:\n",
    "    print(f\"Lỗi: {e}\")\n",
    "except FileNotFoundError as e:\n",
    "    print(\"File khum tồn tại!!\")\n",
    "\n",
    "print(\"-\"*20)\n",
    "\n",
    "try:\n",
    "    file = open(\"src/public/Resource\", \"r\", encoding='utf-8')\n",
    "    for line in file:\n",
    "        print(file.readline(), end=\"\")\n",
    "    file.close()\n",
    "except Exception as e:\n",
    "    print(f\"Lỗi: {e}\")\n",
    "except FileNotFoundError as e:\n",
    "    print(\"File khum tồn tại!!\")\n",
    "\n"
   ],
   "id": "4653db2bf56bc29b",
   "outputs": [
    {
     "name": "stdout",
     "output_type": "stream",
     "text": [
      "Tự nguyện\n",
      "Trương Quốc Khánh\n",
      "Nếu là chim, tôi sẽ là loài bồ câu trắng\n",
      "Nếu là hoa, tôi sẽ là một đóa hướng dương\n",
      "Nếu là mây, tôi sẽ là một vầng mây ấm\n",
      "Là người, tôi sẽ chết cho quê hương.\n",
      "\n",
      "Là chim, tôi sẽ cất cao đôi cánh mềm\n",
      "Từ nam ra ngoài bắc báo tin nối liền\n",
      "Là hoa, tôi nở tình yêu ban sớm\n",
      "Cùng muôn trái tim ngất ngây hoà bình.\n",
      "\n",
      "Là mây, theo làn gió tung bay khắp trời\n",
      "Nghìn xưa oai hùng đó tôi xin tiếp lời\n",
      "Là người, xin một lần khi nằm xuống\n",
      "Nhìn anh em đứng lên phất cao ngọn cờ.\n",
      "--------------------\n",
      "Trương Quốc Khánh\n",
      "Nếu là hoa, tôi sẽ là một đóa hướng dương\n",
      "Là người, tôi sẽ chết cho quê hương.\n",
      "Là chim, tôi sẽ cất cao đôi cánh mềm\n",
      "Là hoa, tôi nở tình yêu ban sớm\n",
      "\n",
      "Nghìn xưa oai hùng đó tôi xin tiếp lời\n",
      "Nhìn anh em đứng lên phất cao ngọn cờ."
     ]
    }
   ],
   "execution_count": 2
  },
  {
   "metadata": {},
   "cell_type": "markdown",
   "source": "",
   "id": "c20a4edcc372fcce"
  },
  {
   "metadata": {},
   "cell_type": "markdown",
   "source": "## Lab 7 - Bài 2",
   "id": "6159a0c8a2eeafb9"
  },
  {
   "metadata": {
    "ExecuteTime": {
     "end_time": "2025-10-19T09:09:36.743327Z",
     "start_time": "2025-10-19T09:09:36.736387Z"
    }
   },
   "cell_type": "code",
   "source": [
    "# Code lab 7  bài 2 ở đây\n",
    "poem = \"\"\"“…\n",
    "Nếu một mai tôi có bay lên trời\n",
    "Thì người ơi tôi đã sống rất thảnh thơ\n",
    "Nếu một mai tôi có đi qua đời\n",
    "Thì người ơi tôi đã sống rất tuyệt vời\n",
    "…”\"\"\"\n",
    "\n",
    "file = open(\"src/public/bai_tho.txt\", \"w\", encoding=\"utf-8\")\n",
    "file.write(poem)\n",
    "file.close()\n",
    "\n",
    "file = open(\"src/public/bai_tho.txt\", \"r\", encoding=\"utf-8\")\n",
    "print(file.read())\n",
    "file.close()\n",
    "\n"
   ],
   "id": "e9640189d92770c4",
   "outputs": [
    {
     "name": "stdout",
     "output_type": "stream",
     "text": [
      "“…\n",
      "Nếu một mai tôi có bay lên trời\n",
      "Thì người ơi tôi đã sống rất thảnh thơ\n",
      "Nếu một mai tôi có đi qua đời\n",
      "Thì người ơi tôi đã sống rất tuyệt vời\n",
      "…”\n"
     ]
    }
   ],
   "execution_count": 3
  },
  {
   "metadata": {},
   "cell_type": "markdown",
   "source": "## Lab 7 - Bài 3",
   "id": "4c7b55a623b086c6"
  },
  {
   "metadata": {
    "ExecuteTime": {
     "end_time": "2025-10-19T09:18:27.140359Z",
     "start_time": "2025-10-19T09:18:04.585075Z"
    }
   },
   "cell_type": "code",
   "source": [
    "# Code lab 7  bài 3 ở đây\n",
    "from dat2011_little_fox28.src.utils.handle_input_for_string import HandleInputForString\n",
    "import csv\n",
    "\n",
    "CSV_HEADER = [\"Tiêu đề\", \"Tác giả\", \"Tên bài hát\"]\n",
    "\n",
    "handle_song = HandleInputForString()\n",
    "handle_song.handle_input(3, [\"Tiêu đề:\", \"Tác giả:\", \"Tên bài hát:\"])\n",
    "\n",
    "title = handle_song.getter_x()\n",
    "author = handle_song.getter_y()\n",
    "song_name = handle_song.getter_z()\n",
    "\n",
    "if not all([title, author, song_name]):\n",
    "    print(\"\\nLỗi: Tất cả các trường thông tin không được để trống. Vui lòng thử lại.\")\n",
    "\n",
    "\n",
    "new_song_data = {\n",
    "    \"Tiêu đề\": title,\n",
    "    \"Tác giả\": author,\n",
    "    \"Tên bài hát\": song_name\n",
    "}\n",
    "\n",
    "file = open(\"src/public/bai_hat.csv\", \"w\", encoding=\"utf-8\")\n",
    "writer = csv.DictWriter(file, fieldnames=CSV_HEADER)\n",
    "# Add the header first\n",
    "writer.writeheader()\n",
    "# Append data\n",
    "writer.writerow(new_song_data)\n",
    "\n",
    "print(f\"\\nThành công! Đã lưu bài hát '{song_name}'.\")\n",
    "\n",
    "file.close()"
   ],
   "id": "26261fc35c06be69",
   "outputs": [
    {
     "name": "stdout",
     "output_type": "stream",
     "text": [
      "\n",
      "Thành công! Đã lưu bài hát 'Chung ta khong thuoc ve nhau'.\n"
     ]
    }
   ],
   "execution_count": 3
  },
  {
   "metadata": {},
   "cell_type": "markdown",
   "source": "## Lab 7 - Bài 4",
   "id": "7e0b37033e88b33f"
  },
  {
   "metadata": {
    "ExecuteTime": {
     "end_time": "2025-10-19T08:08:58.487293Z",
     "start_time": "2025-10-19T08:08:58.413759Z"
    }
   },
   "cell_type": "code",
   "source": [
    "# code lab 7 bài 4 ở đây\n",
    "import xml.etree.ElementTree as ET # Object tree\n",
    "\n",
    "with open(\"src/public/Resource\", mode=\"r\", encoding=\"utf-8\") as file:\n",
    "    file_content = file.readlines()\n",
    "\n",
    "# Create root element\n",
    "root = ET.Element(\"songs\")\n",
    "song = ET.SubElement(root, \"song\")\n",
    "\n",
    "line_num = 1\n",
    "song_name = \"\"\n",
    "author = \"\"\n",
    "\n",
    "for row in file_content:\n",
    "    row = row.strip()\n",
    "\n",
    "    if line_num == 1:\n",
    "        ET.SubElement(song, \"song_name\").text = row\n",
    "        line_num += 1\n",
    "        continue\n",
    "    if line_num == 2:\n",
    "        ET.SubElement(song, \"author\").text = row\n",
    "        line_num += 1\n",
    "        continue\n",
    "    line_num = None\n",
    "\n",
    "    if not row:\n",
    "        ET.SubElement(song, \"br\")\n",
    "    else:\n",
    "        ET.SubElement(song, \"section\").text = row\n",
    "\n",
    "tree = ET.ElementTree(root)\n",
    "xml_string = ET.tostring(root, encoding=\"utf-8\").decode()\n",
    "\n",
    "try:\n",
    "    with open(\"src/public/song.xml\", mode=\"w\", encoding=\"utf-8\") as file:\n",
    "        file.write('<?xml version=\"1.0\" encoding=\"UTF-8\"?>\\n')\n",
    "        file.write(xml_string)\n",
    "        print(\"Tạo file thành cong 👍\")\n",
    "except Exception as e:\n",
    "    print(f\"Lỗi khi ghi file: {e}\")"
   ],
   "id": "fc7e38d9b706e5c0",
   "outputs": [
    {
     "name": "stdout",
     "output_type": "stream",
     "text": [
      "Tạo file thành cong 👍\n"
     ]
    }
   ],
   "execution_count": 1
  },
  {
   "metadata": {},
   "cell_type": "markdown",
   "source": "## Lab 7 - Bài 5: bài tập làm thêm",
   "id": "a715877ac42db998"
  },
  {
   "metadata": {},
   "cell_type": "code",
   "outputs": [],
   "execution_count": null,
   "source": "# code lab 7  bài làm thêm ở đây",
   "id": "8312ae93bc7058f8"
  }
 ],
 "metadata": {
  "kernelspec": {
   "display_name": "Python 3",
   "language": "python",
   "name": "python3"
  },
  "language_info": {
   "name": "python",
   "version": "3.13.7"
  }
 },
 "nbformat": 4,
 "nbformat_minor": 5
}
