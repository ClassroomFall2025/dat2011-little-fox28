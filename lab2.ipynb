{
 "cells": [
  {
   "cell_type": "markdown",
   "id": "fdeff819",
   "metadata": {},
   "source": [
    "# Sinh Viên thực hiện Lab 2 ở Đây"
   ]
  },
  {
   "cell_type": "markdown",
   "id": "acc5d7dc",
   "metadata": {},
   "source": [
    "## Lab 2 - Bài 1"
   ]
  },
  {
   "metadata": {},
   "cell_type": "code",
   "outputs": [],
   "execution_count": null,
   "source": [
    "from dat2011_little_fox28.src.utils.highlight import highlight_text\n",
    "# Code lab 2 bài 1 ở đây\n",
    "from src.utils.reader import reader\n",
    "\n",
    "def get_first_line() -> str:\n",
    "    poem: str = reader(\"src/public/lab2.txt\")\n",
    "    return poem.splitlines()[0]\n",
    "\n",
    "def find_word() -> None:\n",
    "    # text: str = str(input(\"Nhập chuỗi cần tìm: \"))\n",
    "    text: str = \"con người\"\n",
    "    line: str = get_first_line()\n",
    "    start_found_text: int | None = line.find(text)\n",
    "    cutted_text = line[start_found_text: start_found_text + len(text)]\n",
    "\n",
    "    if start_found_text == -1:\n",
    "        print(f\"\\033[1;31m Khum tìm thấy chuỗi!! \\033[0m\")\n",
    "        return None\n",
    "\n",
    "    print(f\"\\033[30;47m Đã tìm thấy từ: {text} tại vị trí thứ: {start_found_text} \\033[0m\")\n",
    "    print(f\"Cắt chữ: '{cutted_text}' được tìm kiếm trong hàng \")\n",
    "    print(f\"Viết hoa chữ: '{cutted_text.title()}'\")\n",
    "\n",
    "    return None\n",
    "\n",
    "find_word()\n",
    "\n"
   ],
   "id": "4ac2060bc75f8d16"
  },
  {
   "cell_type": "markdown",
   "id": "c0835310",
   "metadata": {},
   "source": [
    "## Lab 2 - Bài 2"
   ]
  },
  {
   "metadata": {},
   "cell_type": "code",
   "outputs": [],
   "execution_count": null,
   "source": [
    "# Code lab 2  bài 2 ở đây\n",
    "from src.utils.highlight import highlight_text\n",
    "\n",
    "def replace() -> None:\n",
    "    poem: list[str] = reader(\"src/public/lab2.txt\").splitlines()\n",
    "    replace_text: str = \"bình an\"\n",
    "    replaced_text: str = \"hạnh phúc\"\n",
    "\n",
    "    for i in range(len(poem)):\n",
    "        if i == 0:\n",
    "            poem[i] = f'\"...\\n{poem[i]}'\n",
    "        if i == len(poem) -1:\n",
    "            poem[i] = f'{poem[i]}\\n...\"'\n",
    "\n",
    "        if poem[i].find(replace_text):\n",
    "            print(poem[i].replace(replace_text, highlight_text(replaced_text)))\n",
    "replace()\n"
   ],
   "id": "d0db0f0310fadc4d"
  },
  {
   "cell_type": "markdown",
   "id": "0f2483fe",
   "metadata": {},
   "source": [
    "## Lab 2 - Bài 3"
   ]
  },
  {
   "metadata": {},
   "cell_type": "code",
   "outputs": [],
   "execution_count": null,
   "source": [
    "# Code lab 2  bài 3 ở đây\n",
    "from src.utils.handle_input_for_number import HandleInputForNumber\n",
    "\n",
    "class FirstDegreeEquation(HandleInputForNumber):\n",
    "    \"\"\"Solves first-degree equation in the form ax + b = 0\"\"\"\n",
    "\n",
    "    def __init__(self):\n",
    "        super().__init__()\n",
    "\n",
    "    def calculation(self) -> float:\n",
    "        self.handle_input(2, [\"Nhập a:\", \"Nhập b:\"])\n",
    "\n",
    "        a = self.getter_x()\n",
    "        b = self.getter_y()\n",
    "\n",
    "        if a == 0:\n",
    "            if b == 0:\n",
    "                raise Exception(\"Phương trình có vô số nghiệm\")\n",
    "            raise Exception(\"Phương trình vô nghiệm\")\n",
    "\n",
    "        return -b / a\n",
    "cal = FirstDegreeEquation()\n",
    "cal.calculation()"
   ],
   "id": "e7cb8783121ae6eb"
  },
  {
   "cell_type": "markdown",
   "id": "d36ea3d3",
   "metadata": {},
   "source": [
    "## Lab 2 - Bài 4"
   ]
  },
  {
   "metadata": {},
   "cell_type": "code",
   "outputs": [],
   "execution_count": null,
   "source": [
    "# Code lab 2  bài 4 ở đây\n",
    "import math\n",
    "from typing import Optional, Union\n",
    "from src.utils.handle_input_for_number import HandleInputForNumber, NUMERIC\n",
    "from src.utils.highlight import highlight_text\n",
    "\n",
    "class SquareRootEquation(HandleInputForNumber):\n",
    "    \"\"\"\n",
    "    Solves quadratic equations in the form ax² + bx + c = 0\n",
    "    Handles degenerate cases (a=0) by delegating to FirstDegreeEquation\n",
    "    \"\"\"\n",
    "    def __init__(self):\n",
    "        super().__init__()\n",
    "        self._z: Optional[NUMERIC] = None\n",
    "\n",
    "    def calculation(self) -> Union[tuple[float, float], float, None]:\n",
    "        \"\"\"\n",
    "        Solves the quadratic equation\n",
    "        Returns:\n",
    "            tuple[float, float]: Two distinct roots if delta > 0\n",
    "            float: One root if delta = 0\n",
    "            None: If equation has no real roots or is degenerate\n",
    "        \"\"\"\n",
    "        self.handle_input(3,[\"Nhập a: \", \"Nhập b: \", \"Nhập c: \"])\n",
    "        a = self.getter_x()\n",
    "        b = self.getter_y()\n",
    "        c = self.getter_z()\n",
    "\n",
    "        if a == 0:\n",
    "            first_degree = FirstDegreeEquation()\n",
    "            first_degree.setter_x(b)\n",
    "            first_degree.setter_y(c)\n",
    "            try:\n",
    "                return first_degree.calculation()\n",
    "            except ValueError as e:\n",
    "                print(highlight_text(str(e)))\n",
    "                return None\n",
    "        \n",
    "        delta = b * b - 4 * a * c\n",
    "        \n",
    "        if delta > 0:\n",
    "            x1 = (-b + math.sqrt(delta)) / (2 * a)\n",
    "            x2 = (-b - math.sqrt(delta)) / (2 * a)\n",
    "            print(highlight_text(\"2 nghiệm phân biệt:\"))\n",
    "            print(f\"x₁ = {x1:.4f}\")\n",
    "            print(f\"x₂ = {x2:.4f}\")\n",
    "            return x1, x2\n",
    "        elif delta == 0:\n",
    "            x = -b / (2 * a)\n",
    "            print(highlight_text(\"Nghiệm kép:\"))\n",
    "            print(f\"x = {x:.4f}\")\n",
    "            return x\n",
    "        else:\n",
    "            print(highlight_text(\"Vô nghiệm\"))\n",
    "            return None\n",
    "\n",
    "cal = SquareRootEquation()\n",
    "cal.calculation()\n"
   ],
   "id": "39d36ea663e417ae"
  },
  {
   "cell_type": "markdown",
   "id": "e2b41d4a",
   "metadata": {},
   "source": [
    "## Lab 2 - Bài 5: bài tập làm thêm"
   ]
  },
  {
   "cell_type": "markdown",
   "id": "70f1801ab62f0e31",
   "metadata": {},
   "source": []
  },
  {
   "cell_type": "code",
   "execution_count": 1,
   "id": "4d8b7781",
   "metadata": {},
   "outputs": [
    {
     "name": "stdout",
     "output_type": "stream",
     "text": [
      "Số lớn nhất là: 9.0\n"
     ]
    },
    {
     "data": {
      "text/plain": [
       "9.0"
      ]
     },
     "execution_count": 1,
     "metadata": {},
     "output_type": "execute_result"
    }
   ],
   "source": [
    "# code lab 2  bài làm thêm ở đây \n",
    "def find_max_number() -> float:\n",
    "    nums = [float(input(f\"Nhập số {i+1}: \")) for i in range(3)]\n",
    "    max_num = max(nums)\n",
    "    print(f\"Số lớn nhất là: {max_num}\")\n",
    "    return max_num\n",
    "\n",
    "find_max_number()"
   ]
  },
  {
   "cell_type": "markdown",
   "id": "941581d5",
   "metadata": {},
   "source": [
    "# Menu"
   ]
  },
  {
   "cell_type": "code",
   "execution_count": 4,
   "id": "64006466",
   "metadata": {},
   "outputs": [
    {
     "name": "stdout",
     "output_type": "stream",
     "text": [
      "\u001B[30;47m --- Calculator Menu 🦊 --- \u001B[0m\n",
      "1. Phép cộng\n",
      "2. Phép trừ\n",
      "3. Phép nhân\n",
      "4. Phép chia\n",
      "5. Phép chia lấy số dư\n",
      "6. Lũy thừa / số mũ (x^y)\n",
      "7. Căn bậc hai\n",
      "8. Sine\n",
      "9. Cosine\n",
      "10. Tangent\n",
      "11. Log base 10\n",
      "12. Natural Log (ln)\n",
      "13. Log với cơ số\n",
      "14. Phương trình bậc 1 (ax + b = 0)\n",
      "15. Phương trình bậc hai (ax^2 + bx + c = 0)\n",
      "16. Thời gian hiện tại\n",
      "17. Xem lịch sử\n",
      "0. Exit\n",
      "\u001B[30;47m ----------------------- \u001B[0m\n"
     ]
    },
    {
     "ename": "KeyboardInterrupt",
     "evalue": "Interrupted by user",
     "output_type": "error",
     "traceback": [
      "\u001B[31m---------------------------------------------------------------------------\u001B[39m",
      "\u001B[31mKeyboardInterrupt\u001B[39m                         Traceback (most recent call last)",
      "\u001B[36mCell\u001B[39m\u001B[36m \u001B[39m\u001B[32mIn[4]\u001B[39m\u001B[32m, line 4\u001B[39m\n\u001B[32m      1\u001B[39m \u001B[38;5;28;01mfrom\u001B[39;00m\u001B[38;5;250m \u001B[39m\u001B[34;01msrc\u001B[39;00m\u001B[34;01m.\u001B[39;00m\u001B[34;01mpython\u001B[39;00m\u001B[34;01m.\u001B[39;00m\u001B[34;01mmenu\u001B[39;00m\u001B[38;5;250m \u001B[39m\u001B[38;5;28;01mimport\u001B[39;00m menu\n\u001B[32m----> \u001B[39m\u001B[32m4\u001B[39m \u001B[43mmenu\u001B[49m\u001B[43m(\u001B[49m\u001B[43m)\u001B[49m\n",
      "\u001B[36mFile \u001B[39m\u001B[32mc:\\Users\\OMEN\\Desktop\\Learn\\FPT\\DAT-2011-Python\\Bài LAB\\dat2011_little_fox28\\src\\python\\menu.py:45\u001B[39m, in \u001B[36mmenu\u001B[39m\u001B[34m()\u001B[39m\n\u001B[32m     43\u001B[39m \u001B[38;5;28;01mwhile\u001B[39;00m \u001B[38;5;28;01mTrue\u001B[39;00m:\n\u001B[32m     44\u001B[39m     display_menu(menu_options)\n\u001B[32m---> \u001B[39m\u001B[32m45\u001B[39m     choice = \u001B[38;5;28;43minput\u001B[39;49m\u001B[43m(\u001B[49m\u001B[33;43m\"\u001B[39;49m\u001B[33;43mNhập số để chọn phép tính: \u001B[39;49m\u001B[33;43m\"\u001B[39;49m\u001B[43m)\u001B[49m\n\u001B[32m     47\u001B[39m     \u001B[38;5;28;01mif\u001B[39;00m choice == \u001B[33m\"\u001B[39m\u001B[33m0\u001B[39m\u001B[33m\"\u001B[39m:\n\u001B[32m     48\u001B[39m         \u001B[38;5;28mprint\u001B[39m(\u001B[33m\"\u001B[39m\u001B[33mThoát...\u001B[39m\u001B[33m\"\u001B[39m)\n",
      "\u001B[36mFile \u001B[39m\u001B[32m~\\AppData\\Local\\Packages\\PythonSoftwareFoundation.Python.3.13_qbz5n2kfra8p0\\LocalCache\\local-packages\\Python313\\site-packages\\ipykernel\\kernelbase.py:1275\u001B[39m, in \u001B[36mKernel.raw_input\u001B[39m\u001B[34m(self, prompt)\u001B[39m\n\u001B[32m   1273\u001B[39m     msg = \u001B[33m\"\u001B[39m\u001B[33mraw_input was called, but this frontend does not support input requests.\u001B[39m\u001B[33m\"\u001B[39m\n\u001B[32m   1274\u001B[39m     \u001B[38;5;28;01mraise\u001B[39;00m StdinNotImplementedError(msg)\n\u001B[32m-> \u001B[39m\u001B[32m1275\u001B[39m \u001B[38;5;28;01mreturn\u001B[39;00m \u001B[38;5;28;43mself\u001B[39;49m\u001B[43m.\u001B[49m\u001B[43m_input_request\u001B[49m\u001B[43m(\u001B[49m\n\u001B[32m   1276\u001B[39m \u001B[43m    \u001B[49m\u001B[38;5;28;43mstr\u001B[39;49m\u001B[43m(\u001B[49m\u001B[43mprompt\u001B[49m\u001B[43m)\u001B[49m\u001B[43m,\u001B[49m\n\u001B[32m   1277\u001B[39m \u001B[43m    \u001B[49m\u001B[38;5;28;43mself\u001B[39;49m\u001B[43m.\u001B[49m\u001B[43m_parent_ident\u001B[49m\u001B[43m[\u001B[49m\u001B[33;43m\"\u001B[39;49m\u001B[33;43mshell\u001B[39;49m\u001B[33;43m\"\u001B[39;49m\u001B[43m]\u001B[49m\u001B[43m,\u001B[49m\n\u001B[32m   1278\u001B[39m \u001B[43m    \u001B[49m\u001B[38;5;28;43mself\u001B[39;49m\u001B[43m.\u001B[49m\u001B[43mget_parent\u001B[49m\u001B[43m(\u001B[49m\u001B[33;43m\"\u001B[39;49m\u001B[33;43mshell\u001B[39;49m\u001B[33;43m\"\u001B[39;49m\u001B[43m)\u001B[49m\u001B[43m,\u001B[49m\n\u001B[32m   1279\u001B[39m \u001B[43m    \u001B[49m\u001B[43mpassword\u001B[49m\u001B[43m=\u001B[49m\u001B[38;5;28;43;01mFalse\u001B[39;49;00m\u001B[43m,\u001B[49m\n\u001B[32m   1280\u001B[39m \u001B[43m\u001B[49m\u001B[43m)\u001B[49m\n",
      "\u001B[36mFile \u001B[39m\u001B[32m~\\AppData\\Local\\Packages\\PythonSoftwareFoundation.Python.3.13_qbz5n2kfra8p0\\LocalCache\\local-packages\\Python313\\site-packages\\ipykernel\\kernelbase.py:1320\u001B[39m, in \u001B[36mKernel._input_request\u001B[39m\u001B[34m(self, prompt, ident, parent, password)\u001B[39m\n\u001B[32m   1317\u001B[39m \u001B[38;5;28;01mexcept\u001B[39;00m \u001B[38;5;167;01mKeyboardInterrupt\u001B[39;00m:\n\u001B[32m   1318\u001B[39m     \u001B[38;5;66;03m# re-raise KeyboardInterrupt, to truncate traceback\u001B[39;00m\n\u001B[32m   1319\u001B[39m     msg = \u001B[33m\"\u001B[39m\u001B[33mInterrupted by user\u001B[39m\u001B[33m\"\u001B[39m\n\u001B[32m-> \u001B[39m\u001B[32m1320\u001B[39m     \u001B[38;5;28;01mraise\u001B[39;00m \u001B[38;5;167;01mKeyboardInterrupt\u001B[39;00m(msg) \u001B[38;5;28;01mfrom\u001B[39;00m\u001B[38;5;250m \u001B[39m\u001B[38;5;28;01mNone\u001B[39;00m\n\u001B[32m   1321\u001B[39m \u001B[38;5;28;01mexcept\u001B[39;00m \u001B[38;5;167;01mException\u001B[39;00m:\n\u001B[32m   1322\u001B[39m     \u001B[38;5;28mself\u001B[39m.log.warning(\u001B[33m\"\u001B[39m\u001B[33mInvalid Message:\u001B[39m\u001B[33m\"\u001B[39m, exc_info=\u001B[38;5;28;01mTrue\u001B[39;00m)\n",
      "\u001B[31mKeyboardInterrupt\u001B[39m: Interrupted by user"
     ]
    }
   ],
   "source": [
    "from src.python.menu import menu\n",
    "\n",
    "\n",
    "menu()"
   ]
  }
 ],
 "metadata": {
  "kernelspec": {
   "display_name": "Python 3",
   "language": "python",
   "name": "python3"
  },
  "language_info": {
   "codemirror_mode": {
    "name": "ipython",
    "version": 3
   },
   "file_extension": ".py",
   "mimetype": "text/x-python",
   "name": "python",
   "nbconvert_exporter": "python",
   "pygments_lexer": "ipython3",
   "version": "3.13.7"
  }
 },
 "nbformat": 4,
 "nbformat_minor": 5
}
