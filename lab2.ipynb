{
 "cells": [
  {
   "cell_type": "markdown",
   "id": "fdeff819",
   "metadata": {},
   "source": [
    "# Sinh Viên thực hiện Lab 2 ở Đây"
   ]
  },
  {
   "cell_type": "markdown",
   "id": "acc5d7dc",
   "metadata": {},
   "source": [
    "## Lab 2 - Bài 1"
   ]
  },
  {
   "cell_type": "code",
   "execution_count": 94,
   "id": "001e0507",
   "metadata": {
    "ExecuteTime": {
     "end_time": "2025-09-20T21:53:12.754913Z",
     "start_time": "2025-09-20T21:53:12.743379Z"
    }
   },
   "outputs": [
    {
     "name": "stdout",
     "output_type": "stream",
     "text": [
      "\u001B[30;47m Đã tìm thấy từ: con người tại vị trí thứ: 5 \u001B[0m\n",
      "Cắt chữ: 'con người' được tìm kiếm trong hàng \n",
      "Viết hoa chữ: 'Con Người'\n"
     ]
    }
   ],
   "source": [
    "from dat2011_little_fox28.src.utils.highlight import highlight_text\n",
    "# Code lab 2 bài 1 ở đây\n",
    "from src.utils.reader import reader\n",
    "\n",
    "def get_first_line() -> str:\n",
    "    poem: str = reader(\"src/public/lab2.txt\")\n",
    "    return poem.splitlines()[0]\n",
    "\n",
    "def find_word() -> None:\n",
    "    # text: str = str(input(\"Nhập chuỗi cần tìm: \"))\n",
    "    text: str = \"con người\"\n",
    "    line: str = get_first_line()\n",
    "    start_found_text: int | None = line.find(text)\n",
    "    cutted_text = line[start_found_text: start_found_text + len(text)]\n",
    "\n",
    "    if start_found_text == -1:\n",
    "        print(f\"\\033[1;31m Khum tìm thấy chuỗi!! \\033[0m\")\n",
    "        return None\n",
    "\n",
    "    print(f\"\\033[30;47m Đã tìm thấy từ: {text} tại vị trí thứ: {start_found_text} \\033[0m\")\n",
    "    print(f\"Cắt chữ: '{cutted_text}' được tìm kiếm trong hàng \")\n",
    "    print(f\"Viết hoa chữ: '{cutted_text.title()}'\")\n",
    "\n",
    "    return None\n",
    "\n",
    "find_word()\n",
    "\n"
   ]
  },
  {
   "cell_type": "markdown",
   "id": "c0835310",
   "metadata": {},
   "source": [
    "## Lab 2 - Bài 2"
   ]
  },
  {
   "cell_type": "code",
   "execution_count": 127,
   "id": "fa9cb39f",
   "metadata": {
    "ExecuteTime": {
     "end_time": "2025-09-20T22:33:39.861628Z",
     "start_time": "2025-09-20T22:33:39.853055Z"
    }
   },
   "outputs": [
    {
     "name": "stdout",
     "output_type": "stream",
     "text": [
      "\"...\n",
      "Kiếp con người mỏng manh như là gió\n",
      "Sống trên đời có được mấy lần vui\n",
      "Sao phải đau mà không thể mỉm cười\n",
      "Gắng buông nỗi ngậm ngùi nơi quá khứ\n",
      "\n",
      "Nếu có thể sao ta không làm thử\n",
      "Để tâm hồn khắc hai chữ \u001B[30;47m hạnh phúc \u001B[0m\n",
      "Cho đôi chân bước thanh thản nhẹ nhàng\n",
      "Dù hướng đời có muôn ngàn đá sỏi\n",
      "...\"\n"
     ]
    }
   ],
   "source": [
    "# Code lab 2  bài 2 ở đây\n",
    "from src.utils.highlight import highlight_text\n",
    "\n",
    "def replace() -> None:\n",
    "    poem: list[str] = reader(\"src/public/lab2.txt\").splitlines()\n",
    "    replace_text: str = \"bình an\"\n",
    "    replaced_text: str = \"hạnh phúc\"\n",
    "\n",
    "    for i in range(len(poem)):\n",
    "        if i == 0:\n",
    "            poem[i] = f'\"...\\n{poem[i]}'\n",
    "        if i == len(poem) -1:\n",
    "            poem[i] = f'{poem[i]}\\n...\"'\n",
    "\n",
    "        if poem[i].find(replace_text):\n",
    "            print(poem[i].replace(replace_text, highlight_text(replaced_text)))\n",
    "replace()\n"
   ]
  },
  {
   "cell_type": "markdown",
   "id": "0f2483fe",
   "metadata": {},
   "source": [
    "## Lab 2 - Bài 3"
   ]
  },
  {
   "cell_type": "code",
   "execution_count": null,
   "id": "7034990b",
   "metadata": {
    "ExecuteTime": {
     "end_time": "2025-09-20T23:17:30.357942Z",
     "start_time": "2025-09-20T23:17:24.399325Z"
    }
   },
   "outputs": [],
   "source": [
    "# Code lab 2  bài 3 ở đây\n",
    "from src.utils.handle_input_for_number import HandleInputForNumber\n",
    "\n",
    "class FirstDegreeEquation(HandleInputForNumber):\n",
    "    \"\"\"Solves first-degree equation in the form ax + b = 0\"\"\"\n",
    "\n",
    "    def __init__(self):\n",
    "        super().__init__()\n",
    "\n",
    "    def calculation(self) -> float:\n",
    "        self.handle_input(2, [\"Nhập a:\", \"Nhập b:\"])\n",
    "\n",
    "        a = self.getter_x()\n",
    "        b = self.getter_y()\n",
    "\n",
    "        if a == 0:\n",
    "            if b == 0:\n",
    "                raise Exception(\"Phương trình có vô số nghiệm\")\n",
    "            raise Exception(\"Phương trình vô nghiệm\")\n",
    "\n",
    "        return -b / a\n",
    "cal = FirstDegreeEquation()\n",
    "cal.calculation()"
   ]
  },
  {
   "cell_type": "markdown",
   "id": "d36ea3d3",
   "metadata": {},
   "source": [
    "## Lab 2 - Bài 4"
   ]
  },
  {
   "cell_type": "code",
   "execution_count": 26,
   "id": "4c707ec1",
   "metadata": {
    "ExecuteTime": {
     "end_time": "2025-09-21T09:10:25.495610Z",
     "start_time": "2025-09-21T09:10:25.439496Z"
    }
   },
   "outputs": [
    {
     "name": "stdout",
     "output_type": "stream",
     "text": [
      "\u001B[30;47m Vô nghiệm \u001B[0m\n"
     ]
    }
   ],
   "source": [
    "# Code lab 2  bài 4 ở đây\n",
    "import math\n",
    "from typing import Optional, Union\n",
    "from src.utils.handle_input_for_number import HandleInputForNumber, NUMERIC\n",
    "from src.utils.highlight import highlight_text\n",
    "\n",
    "class SquareRootEquation(HandleInputForNumber):\n",
    "    \"\"\"\n",
    "    Solves quadratic equations in the form ax² + bx + c = 0\n",
    "    Handles degenerate cases (a=0) by delegating to FirstDegreeEquation\n",
    "    \"\"\"\n",
    "    def __init__(self):\n",
    "        super().__init__()\n",
    "        self._z: Optional[NUMERIC] = None\n",
    "\n",
    "    def calculation(self) -> Union[tuple[float, float], float, None]:\n",
    "        \"\"\"\n",
    "        Solves the quadratic equation\n",
    "        Returns:\n",
    "            tuple[float, float]: Two distinct roots if delta > 0\n",
    "            float: One root if delta = 0\n",
    "            None: If equation has no real roots or is degenerate\n",
    "        \"\"\"\n",
    "        self.handle_input(3,[\"Nhập a: \", \"Nhập b: \", \"Nhập c: \"])\n",
    "        a = self.getter_x()\n",
    "        b = self.getter_y()\n",
    "        c = self.getter_z()\n",
    "\n",
    "        if a == 0:\n",
    "            first_degree = FirstDegreeEquation()\n",
    "            first_degree.setter_x(b)\n",
    "            first_degree.setter_y(c)\n",
    "            try:\n",
    "                return first_degree.calculation()\n",
    "            except ValueError as e:\n",
    "                print(highlight_text(str(e)))\n",
    "                return None\n",
    "        \n",
    "        delta = b * b - 4 * a * c\n",
    "        \n",
    "        if delta > 0:\n",
    "            x1 = (-b + math.sqrt(delta)) / (2 * a)\n",
    "            x2 = (-b - math.sqrt(delta)) / (2 * a)\n",
    "            print(highlight_text(\"2 nghiệm phân biệt:\"))\n",
    "            print(f\"x₁ = {x1:.4f}\")\n",
    "            print(f\"x₂ = {x2:.4f}\")\n",
    "            return x1, x2\n",
    "        elif delta == 0:\n",
    "            x = -b / (2 * a)\n",
    "            print(highlight_text(\"Nghiệm kép:\"))\n",
    "            print(f\"x = {x:.4f}\")\n",
    "            return x\n",
    "        else:\n",
    "            print(highlight_text(\"Vô nghiệm\"))\n",
    "            return None\n",
    "\n",
    "cal = SquareRootEquation()\n",
    "cal.calculation()\n"
   ]
  },
  {
   "cell_type": "markdown",
   "id": "e2b41d4a",
   "metadata": {},
   "source": [
    "## Lab 2 - Bài 5: bài tập làm thêm"
   ]
  },
  {
   "cell_type": "markdown",
   "id": "70f1801ab62f0e31",
   "metadata": {},
   "source": []
  },
  {
   "cell_type": "code",
   "execution_count": 35,
   "id": "4d8b7781",
   "metadata": {},
   "outputs": [
    {
     "name": "stdout",
     "output_type": "stream",
     "text": [
      "Số lớn nhất là: 4.0\n"
     ]
    },
    {
     "data": {
      "text/plain": [
       "4.0"
      ]
     },
     "execution_count": 35,
     "metadata": {},
     "output_type": "execute_result"
    }
   ],
   "source": [
    "# code lab 2  bài làm thêm ở đây \n",
    "def find_max_number() -> float:\n",
    "    nums = [float(input(f\"Nhập số {i+1}: \")) for i in range(3)]\n",
    "    max_num = max(nums)\n",
    "    print(f\"Số lớn nhất là: {max_num}\")\n",
    "    return max_num\n",
    "\n",
    "find_max_number()"
   ]
  }
 ],
 "metadata": {
  "kernelspec": {
   "display_name": "Python 3",
   "language": "python",
   "name": "python3"
  },
  "language_info": {
   "codemirror_mode": {
    "name": "ipython",
    "version": 3
   },
   "file_extension": ".py",
   "mimetype": "text/x-python",
   "name": "python",
   "nbconvert_exporter": "python",
   "pygments_lexer": "ipython3",
   "version": "3.13.7"
  }
 },
 "nbformat": 4,
 "nbformat_minor": 5
}
