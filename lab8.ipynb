{
 "cells": [
  {
   "cell_type": "markdown",
   "id": "fdeff819",
   "metadata": {},
   "source": [
    "# Sinh Viên thực hiện Lab 8 ở Đây"
   ]
  },
  {
   "cell_type": "markdown",
   "id": "acc5d7dc",
   "metadata": {},
   "source": [
    "## Lab 8 - Bài 1"
   ]
  },
  {
   "cell_type": "code",
   "id": "001e0507",
   "metadata": {
    "ExecuteTime": {
     "end_time": "2025-10-22T00:56:51.115764Z",
     "start_time": "2025-10-22T00:56:35.957174Z"
    }
   },
   "source": [
    "# Code lab 8 bài 1 ở đây\n",
    "enter_name =  input(\"Nhập họ và tên: \")\n",
    "split_name = enter_name.split()\n",
    "print(f\"Họ: {split_name[0]}\")\n",
    "print(f\"Họ: {\" \".join(split_name[1:-1])}\")\n",
    "print(f\"Tên: {split_name[-1]}\")\n"
   ],
   "outputs": [
    {
     "name": "stdout",
     "output_type": "stream",
     "text": [
      "Họ: Tran\n",
      "Họ: Thi Duc\n",
      "Tên: Bo\n"
     ]
    }
   ],
   "execution_count": 4
  },
  {
   "metadata": {},
   "cell_type": "markdown",
   "source": "",
   "id": "57b7c4b4994265fa"
  },
  {
   "cell_type": "markdown",
   "id": "c0835310",
   "metadata": {},
   "source": [
    "## Lab 8 - Bài 2"
   ]
  },
  {
   "cell_type": "code",
   "id": "fa9cb39f",
   "metadata": {
    "ExecuteTime": {
     "end_time": "2025-10-22T00:55:55.824703Z",
     "start_time": "2025-10-22T00:54:54.245591Z"
    }
   },
   "source": [
    "import re\n",
    "\n",
    "EMAIL_REGEX = r'^[a-zA-Z0-9._%+-]+@[a-zA-Z0-9.-]+\\.[a-zA-Z]{2,}$'\n",
    "PHONE_REGEX = r'^0\\d{9,10}$'\n",
    "ID_REGEX = r'^(\\d{9}|\\d{12})$'\n",
    "\n",
    "FIELDS = [\n",
    "    ('ho_ten', \"Nhập Họ và Tên: \", r'.+', \"Họ và tên không được để trống.\"),\n",
    "    ('email', \"Nhập Email: \", EMAIL_REGEX, \"Email không đúng định dạng.\"),\n",
    "    ('so_dien_thoai', \"Nhập Số điện thoại (0xxxxxxxxx): \", PHONE_REGEX, \"SĐT phải là 10 hoặc 11 số, bắt đầu bằng 0.\"),\n",
    "    ('cmnd', \"Nhập CMND/CCCD (9 hoặc 12 số): \", ID_REGEX, \"CMND/CCCD phải là 9 hoặc 12 chữ số.\")\n",
    "]\n",
    "\n",
    "def input_student_info_simple_fixed():\n",
    "    student_data = {}\n",
    "\n",
    "    print(\"--- NHẬP THÔNG TIN SINH VIÊN VÀ KIỂM TRA ĐỊNH DẠNG ---\")\n",
    "\n",
    "    for key, prompt, regex, error_msg in FIELDS:\n",
    "        while True:\n",
    "            value = input(prompt).strip()\n",
    "            if re.fullmatch(regex, value):\n",
    "                student_data[key] = value\n",
    "            else:\n",
    "                print(f\"LỖI: {error_msg} Vui lòng nhập lại.\")\n",
    "\n",
    "    return student_data\n",
    "\n",
    "if __name__ == \"__main__\":\n",
    "    sinh_vien = input_student_info_simple_fixed()\n",
    "\n",
    "    print(\"\\n--- THÔNG TIN SINH VIÊN ĐÃ NHẬP HỢP LỆ ---\")\n",
    "    for key, value in sinh_vien.items():\n",
    "        print(f\"{key.replace('_', ' ').title()}: {value}\")"
   ],
   "outputs": [
    {
     "name": "stdout",
     "output_type": "stream",
     "text": [
      "--- NHẬP THÔNG TIN SINH VIÊN VÀ KIỂM TRA ĐỊNH DẠNG ---\n",
      "LỖI: Email không đúng định dạng. Vui lòng nhập lại.\n",
      "LỖI: SĐT phải là 10 hoặc 11 số, bắt đầu bằng 0. Vui lòng nhập lại.\n",
      "LỖI: CMND/CCCD phải là 9 hoặc 12 chữ số. Vui lòng nhập lại.\n",
      "\n",
      "--- THÔNG TIN SINH VIÊN ĐÃ NHẬP HỢP LỆ ---\n",
      "Ho Ten: Thinh\n",
      "Email: thjnhtan@gmail.com\n",
      "So Dien Thoai: 0902911722\n",
      "Cmnd: 123456789\n"
     ]
    }
   ],
   "execution_count": 3
  },
  {
   "cell_type": "markdown",
   "id": "0f2483fe",
   "metadata": {},
   "source": [
    "## Lab 8 - Bài 3"
   ]
  },
  {
   "cell_type": "code",
   "id": "7034990b",
   "metadata": {
    "ExecuteTime": {
     "end_time": "2025-10-22T01:00:59.457598Z",
     "start_time": "2025-10-22T01:00:58.650710Z"
    }
   },
   "source": [
    "# Code lab 8  bài 3 ở đây\n",
    "import random\n",
    "\n",
    "FILE_NAME = \"src/public/random_numbers.txt\"\n",
    "NUM_COUNT = 1000000  # 1 triệu số nguyên\n",
    "MIN_VALUE = 0\n",
    "MAX_VALUE = 100\n",
    "\n",
    "def generate_and_write_random_numbers(file_name, count, min_val, max_val):\n",
    "    print(f\"Bắt đầu tạo {count:,} số ngẫu nhiên...\")\n",
    "\n",
    "    try:\n",
    "        with open(file_name, 'w') as f:\n",
    "            for i in range(count):\n",
    "                number = random.randint(min_val, max_val)\n",
    "\n",
    "                f.write(str(number) + \" \")\n",
    "                if (i + 1) % 100000 == 0:\n",
    "                    print(f\"Đã ghi được {(i + 1):,} số...\")\n",
    "\n",
    "        print(f\"\\n✅ Hoàn thành! Đã ghi {count:,} số ra file: '{file_name}'\")\n",
    "        print(\"Mỗi số được cách nhau bởi dấu trống.\")\n",
    "\n",
    "    except Exception as e:\n",
    "        print(f\"Đã xảy ra lỗi trong quá trình ghi file: {e}\")\n",
    "\n",
    "if __name__ == \"__main__\":\n",
    "    generate_and_write_random_numbers(FILE_NAME, NUM_COUNT, MIN_VALUE, MAX_VALUE)"
   ],
   "outputs": [
    {
     "name": "stdout",
     "output_type": "stream",
     "text": [
      "Bắt đầu tạo 1,000,000 số ngẫu nhiên...\n",
      "Đã ghi được 100,000 số...\n",
      "Đã ghi được 200,000 số...\n",
      "Đã ghi được 300,000 số...\n",
      "Đã ghi được 400,000 số...\n",
      "Đã ghi được 500,000 số...\n",
      "Đã ghi được 600,000 số...\n",
      "Đã ghi được 700,000 số...\n",
      "Đã ghi được 800,000 số...\n",
      "Đã ghi được 900,000 số...\n",
      "Đã ghi được 1,000,000 số...\n",
      "\n",
      "✅ Hoàn thành! Đã ghi 1,000,000 số ra file: 'src/public/random_numbers.txt'\n",
      "Mỗi số được cách nhau bởi dấu trống.\n"
     ]
    }
   ],
   "execution_count": 5
  },
  {
   "cell_type": "markdown",
   "id": "d36ea3d3",
   "metadata": {},
   "source": [
    "## Lab 8 - Bài 4"
   ]
  },
  {
   "cell_type": "code",
   "id": "4c707ec1",
   "metadata": {
    "ExecuteTime": {
     "end_time": "2025-10-22T01:05:16.954791Z",
     "start_time": "2025-10-22T01:05:16.176393Z"
    }
   },
   "source": [
    "# code lab 8 bài 4 ở đây\n",
    "import statistics\n",
    "\n",
    "# Tên file dữ liệu đã tạo ở Bài 3\n",
    "FILE_NAME = \"src/public/random_numbers.txt\"\n",
    "\n",
    "def analyze_data_from_file(file_name):\n",
    "    print(f\"Bắt đầu đọc dữ liệu từ file: '{file_name}'...\")\n",
    "\n",
    "    try:\n",
    "        with open(file_name, 'r') as f:\n",
    "            content = f.read()\n",
    "            string_numbers = content.split()\n",
    "\n",
    "            if not string_numbers:\n",
    "                print(\"LỖI: File không chứa dữ liệu. Hãy chạy Bài 3 trước.\")\n",
    "                return\n",
    "\n",
    "            try:\n",
    "                data = [int(s) for s in string_numbers]\n",
    "            except ValueError:\n",
    "                print(\"LỖI: Dữ liệu trong file không phải là số nguyên hợp lệ.\")\n",
    "                return\n",
    "\n",
    "            print(f\"✅ Đã đọc thành công {len(data):,} giá trị.\")\n",
    "\n",
    "            mean_value = statistics.mean(data)\n",
    "\n",
    "            std_dev_value = statistics.stdev(data)\n",
    "\n",
    "            print(\"\\n--- KẾT QUẢ PHÂN TÍCH THỐNG KÊ ---\")\n",
    "            print(f\"Tổng số lượng dữ liệu: {len(data):,}\")\n",
    "            print(f\"Giá trị Trung bình (Mean/Average)[cite: 51]: {mean_value:.4f}\")\n",
    "            print(f\"Giá trị Độ lệch chuẩn (Standard Deviation)[cite: 52]: {std_dev_value:.4f}\")\n",
    "\n",
    "    except FileNotFoundError:\n",
    "        print(f\"LỖI: Không tìm thấy file '{file_name}'. Vui lòng đảm bảo đã chạy Bài 3 thành công.\")\n",
    "    except Exception as e:\n",
    "        print(f\"Đã xảy ra lỗi: {e}\")\n",
    "\n",
    "if __name__ == \"__main__\":\n",
    "    analyze_data_from_file(FILE_NAME)"
   ],
   "outputs": [
    {
     "name": "stdout",
     "output_type": "stream",
     "text": [
      "Bắt đầu đọc dữ liệu từ file: 'src/public/random_numbers.txt'...\n",
      "✅ Đã đọc thành công 1,000,000 giá trị.\n",
      "\n",
      "--- KẾT QUẢ PHÂN TÍCH THỐNG KÊ ---\n",
      "Tổng số lượng dữ liệu: 1,000,000\n",
      "Giá trị Trung bình (Mean/Average)[cite: 51]: 49.9961\n",
      "Giá trị Độ lệch chuẩn (Standard Deviation)[cite: 52]: 29.1512\n"
     ]
    }
   ],
   "execution_count": 6
  },
  {
   "cell_type": "markdown",
   "id": "e2b41d4a",
   "metadata": {},
   "source": [
    "## Lab 8 - Bài 5: bài tập làm thêm"
   ]
  },
  {
   "cell_type": "code",
   "id": "0e0172f7",
   "metadata": {},
   "source": [
    "# code lab 8  bài làm thêm ở đây "
   ],
   "outputs": [],
   "execution_count": null
  }
 ],
 "metadata": {
  "kernelspec": {
   "display_name": "Python 3",
   "language": "python",
   "name": "python3"
  },
  "language_info": {
   "name": "python",
   "version": "3.13.2"
  }
 },
 "nbformat": 4,
 "nbformat_minor": 5
}
