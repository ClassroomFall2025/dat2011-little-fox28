{
 "cells": [
  {
   "cell_type": "markdown",
   "id": "fdeff819",
   "metadata": {},
   "source": [
    "# Sinh Viên thực hiện Lab 4 ở Đây"
   ]
  },
  {
   "cell_type": "markdown",
   "id": "acc5d7dc",
   "metadata": {},
   "source": [
    "## Lab 1 - Bài 1"
   ]
  },
  {
   "cell_type": "code",
   "id": "001e0507",
   "metadata": {},
   "source": [
    "# Code lab 4 bài 1 ở đây\n",
    "def calc_water_bill() -> float:\n",
    "    consumption: float = float(input(\"Nhập khối lượng nước sử dụng(m3): \"))\n",
    "\n",
    "    water_tiers = [\n",
    "        (10, 7500),\n",
    "        (20, 8800),\n",
    "        (30, 12000),\n",
    "        (float(\"inf\"), 2400)\n",
    "    ]\n",
    "\n",
    "    total_bill = 0\n",
    "    calculated_amount  = 0\n",
    "\n",
    "\n",
    "    for tier, price in water_tiers:\n",
    "        if consumption <= calculated_amount:\n",
    "            break\n",
    "\n",
    "        tier_capacity = tier - calculated_amount\n",
    "\n",
    "        remaining_consumption = consumption - calculated_amount\n",
    "\n",
    "        tier_usage = min(remaining_consumption, tier_capacity)\n",
    "\n",
    "        total_bill += tier_usage * price\n",
    "\n",
    "        calculated_amount += tier_usage\n",
    "\n",
    "    return total_bill"
   ],
   "outputs": [],
   "execution_count": null
  },
  {
   "cell_type": "markdown",
   "id": "c0835310",
   "metadata": {},
   "source": [
    "## Lab 4 - Bài 2"
   ]
  },
  {
   "cell_type": "code",
   "id": "fa9cb39f",
   "metadata": {},
   "source": [
    "# Code lab 4  bài 2 ở đây\n",
    "from src.utils.handle_input_for_number import HandleInputForNumber\n",
    "\n",
    "def calc_ingredient():\n",
    "    moon_cake = {\n",
    "        \"1\": {\"type\": \"Bánh đậu xanh\", \"sugar\":0.04, \"bean\": 0.07, \"amount\": 0 }, \n",
    "        \"2\": {\"type\": \"Bánh thập cẩm\", \"sugar\":0.05, \"bean\": 0, \"amount\": 0 },\n",
    "        \"3\": {\"type\": \"Bánh dẻo\", \"sugar\":0.06, \"bean\": 0.02, \"amount\": 0 }\n",
    "    }\n",
    "\n",
    "    handle_input = HandleInputForNumber()\n",
    "    handle_input.handle_input(3, [f\"Nhập số lượng bánh {moon_cake['1'][\"type\"]}\", f\"Nhập số lượng bánh {moon_cake['2'][\"type\"]}\", f\"Nhập số lượng bánh {moon_cake['2'][\"type\"]}\"])\n",
    "    \n",
    "    moon_cake[\"1\"]['amount'] = handle_input.getter_x()\n",
    "    moon_cake[\"2\"]['amount'] = handle_input.getter_y()\n",
    "    moon_cake[\"3\"]['amount'] = handle_input.getter_z()\n",
    "\n",
    "    total_sugar = 0\n",
    "    total_bean = 0\n",
    "\n",
    "    for cake in moon_cake.values():\n",
    "        total_sugar += cake[\"amount\"] * cake[\"sugar\"]\n",
    "        total_bean += cake[\"amount\"] * cake[\"bean\"]\n",
    "\n",
    "    print(f\"- Số lượng đường: {float(total_sugar)}kg\\n- Số lượng đậu: {float(total_bean)}kg\")\n",
    "\n",
    "calc_ingredient()"
   ],
   "outputs": [],
   "execution_count": null
  },
  {
   "cell_type": "markdown",
   "id": "0f2483fe",
   "metadata": {},
   "source": [
    "## Lab 4 - Bài 3"
   ]
  },
  {
   "cell_type": "code",
   "id": "7034990b",
   "metadata": {},
   "source": [
    "# Code lab 4  bài 3 ở đây\n",
    "numbers: list[int] = []\n",
    "\n",
    "def handle_input() -> None:\n",
    "    num = input(\"Nhập số: \")\n",
    "    if num == \"S\":\n",
    "        return None\n",
    "    numbers.append(int(num))\n",
    "    return handle_input() #recursive\n",
    "\n",
    "handle_input()\n",
    "print(list(filter(lambda x: (x % 2 == 0) , numbers)))"
   ],
   "outputs": [],
   "execution_count": null
  },
  {
   "cell_type": "markdown",
   "id": "d36ea3d3",
   "metadata": {},
   "source": [
    "## Lab 4 - Bài 4"
   ]
  },
  {
   "cell_type": "code",
   "id": "4c707ec1",
   "metadata": {},
   "source": [
    "# code lab 4 bài 4 ở đây\n",
    "def display_menu(options: dict) -> None:\n",
    "    print(\"--- Menu Lab 4 🦊 ---\")\n",
    "    for key, value in options.items():\n",
    "        print(f\"{key}. {value[\"text\"]}\")\n",
    "    print(\"0. Thoát\")\n",
    "    print(\"-----------------------\")\n",
    "\n",
    "def menu_lab4():\n",
    "    menu_options = {\n",
    "        \"1\": {\"text\": \"Tính tiền nước\", \"method\": calc_water_bill},\n",
    "        \"2\": {\"text\": \"Tính nguyên liệu bánh trung thu\", \"method\": calc_ingredient},\n",
    "    }\n",
    "\n",
    "    while True:\n",
    "        display_menu(menu_options)\n",
    "        choice = input(\"Nhập số để chọn chức năng: \")\n",
    "\n",
    "        if choice == \"0\":\n",
    "            print(\"Thoát...\")\n",
    "            break\n",
    "\n",
    "        if choice in menu_options:\n",
    "            option = menu_options[choice]\n",
    "            try:\n",
    "                option[\"method\"]()\n",
    "            except Exception as e:\n",
    "                print(f\"Lỗi khi chạy chức năng: {e}\")\n",
    "        else:\n",
    "            print(f\"Lựa chọn không hợp lệ. Vui lòng chọn một số từ 0 đến {len(menu_options)}.\")\n",
    "\n",
    "# Run the menu\n",
    "menu_lab4()"
   ],
   "outputs": [],
   "execution_count": null
  },
  {
   "cell_type": "markdown",
   "id": "e2b41d4a",
   "metadata": {},
   "source": [
    "## Lab 4 - Bài 5: bài tập làm thêm"
   ]
  },
  {
   "cell_type": "code",
   "id": "0e0172f7",
   "metadata": {},
   "source": [
    "# code lab 4  bài làm thêm ở đây\n",
    "from src.python.menu import menu\n",
    "\n",
    "menu()"
   ],
   "outputs": [],
   "execution_count": null
  }
 ],
 "metadata": {
  "kernelspec": {
   "display_name": "Python 3",
   "language": "python",
   "name": "python3"
  },
  "language_info": {
   "codemirror_mode": {
    "name": "ipython",
    "version": 3
   },
   "file_extension": ".py",
   "mimetype": "text/x-python",
   "name": "python",
   "nbconvert_exporter": "python",
   "pygments_lexer": "ipython3",
   "version": "3.13.7"
  }
 },
 "nbformat": 4,
 "nbformat_minor": 5
}
