{
 "cells": [
  {
   "cell_type": "markdown",
   "id": "fdeff819",
   "metadata": {},
   "source": [
    "# Sinh Viên thực hiện Lab 6 ở Đây"
   ]
  },
  {
   "cell_type": "markdown",
   "id": "acc5d7dc",
   "metadata": {},
   "source": [
    "## Lab 6 - Bài 1"
   ]
  },
  {
   "cell_type": "code",
   "id": "001e0507",
   "metadata": {
    "ExecuteTime": {
     "end_time": "2025-10-15T21:13:30.500148Z",
     "start_time": "2025-10-15T21:13:22.379186Z"
    }
   },
   "source": [
    "# Code lab 6 bài 1 ở đây\n",
    "from dat2011_little_fox28.src.python.rectangle import Rectangle, Square\n",
    "\n",
    "rectangle = Rectangle()\n",
    "square = Square()\n",
    "\n",
    "rectangle.calculation()\n",
    "square.calculation()"
   ],
   "outputs": [
    {
     "name": "stdout",
     "output_type": "stream",
     "text": [
      "Chiều dài HCN: 4.0\n",
      "Chiều rộng HCN: 5.0\n",
      "Diện tích hình chữ nhật: 20.0\n",
      "Chu vi hình chữ nhật: 18.0\n",
      "-----------------------------------------\n",
      "Cạnh hình vuông: 12.0\n",
      "Chu vi hình vuông 48.0\n",
      "Diện tích hình vuông 144.0\n"
     ]
    }
   ],
   "execution_count": 9
  },
  {
   "cell_type": "markdown",
   "id": "c0835310",
   "metadata": {},
   "source": [
    "## Lab 6 - Bài 2"
   ]
  },
  {
   "cell_type": "code",
   "id": "fa9cb39f",
   "metadata": {},
   "source": [
    "# Code lab 6  bài 2 ở đây\n",
    "from dat2011_little_fox28.src.python.student import SinhVienFPoly\n",
    "\n",
    "student_fpoly = SinhVienFPoly()"
   ],
   "outputs": [],
   "execution_count": null
  },
  {
   "cell_type": "markdown",
   "id": "0f2483fe",
   "metadata": {},
   "source": [
    "## Lab 6 - Bài 3"
   ]
  },
  {
   "cell_type": "code",
   "id": "7034990b",
   "metadata": {
    "ExecuteTime": {
     "end_time": "2025-10-15T21:05:05.609186Z",
     "start_time": "2025-10-15T21:05:05.596619Z"
    }
   },
   "source": [
    "# Code lab 6  bài 3 ở đây\n",
    "from dat2011_little_fox28.src.python.student import SinhVienIT, SinhVienBiz\n",
    "\n",
    "sinhvien_it = SinhVienIT(\"Tran Hung Thinh\", \"Data\", 6,7,8)\n",
    "print(sinhvien_it.export())\n",
    "print(\"-\"*10)\n",
    "sinhvien_biz = SinhVienBiz(\"Tran Ngoc Han\", \"Design\", 10, 10)\n",
    "print(sinhvien_biz.export())"
   ],
   "outputs": [
    {
     "name": "stdout",
     "output_type": "stream",
     "text": [
      "{'Họ và tên': 'Tran Hung Thinh', 'Ngành': 'Data', 'Điểm TB': 6.75, 'Học lực': 'Trung bình', 'Điểm Java': 6, 'Điểm HTML': 7, 'Điểm Css': 8}\n",
      "----------\n",
      "{'Họ và tên': 'Tran Ngoc Han', 'Ngành': 'Design', 'Điểm TB': 10.0, 'Học lực': 'Xuất sắc', 'Điểm Marketing': 10, 'Điểm Sales': 10}\n"
     ]
    }
   ],
   "execution_count": 7
  },
  {
   "cell_type": "markdown",
   "id": "d36ea3d3",
   "metadata": {},
   "source": [
    "## Lab 6 - Bài 4"
   ]
  },
  {
   "cell_type": "code",
   "id": "4c707ec1",
   "metadata": {
    "ExecuteTime": {
     "end_time": "2025-10-15T21:11:25.738502Z",
     "start_time": "2025-10-15T21:08:56.680979Z"
    }
   },
   "source": [
    "# code lab 6 bài 4 ở đây\n",
    "from dat2011_little_fox28.src.python.student import HandleStudent\n",
    "\n",
    "def main():\n",
    "    \"\"\"Hàm chính để chạy chương trình menu tương tác.\"\"\"\n",
    "    manager = HandleStudent()\n",
    "\n",
    "    while True:\n",
    "        print(\"\\n\" + \"=\"*12 + \" MENU \" + \"=\"*12)\n",
    "        print(\"1. Nhập danh sách sinh viên\")\n",
    "        print(\"2. Xuất thông tin danh sách sinh viên\")\n",
    "        print(\"3. Xuất danh sách sinh viên có học lực giỏi\")\n",
    "        print(\"4. Sắp xếp danh sách sinh viên theo điểm\")\n",
    "        print(\"5. Kết thúc\")\n",
    "        print(\"=\"*30)\n",
    "\n",
    "        choice = input(\"Vui lòng chọn chức năng: \")\n",
    "\n",
    "        if choice == '1':\n",
    "            manager.add_student()\n",
    "        elif choice == '2':\n",
    "            manager.export_student_list()\n",
    "        elif choice == '3':\n",
    "            print(\"\\n--- DANH SÁCH SINH VIÊN HỌC LỰC GIỎI ---\".center(40))\n",
    "            gioi_students = manager.filter_students_by_grade(\"Giỏi\")\n",
    "            if not gioi_students:\n",
    "                print(\">> Không có sinh viên nào đạt học lực Giỏi.\")\n",
    "            else:\n",
    "                for i, student in enumerate(gioi_students, 1):\n",
    "                    print(f\"[{i}] Sinh viên: {student.full_name}\")\n",
    "                    details = student.export()\n",
    "                    for key, value in details.items():\n",
    "                         if key != \"Họ và tên\":\n",
    "                            print(f\"  - {key}: {value}\")\n",
    "                    print(\"-\" * 40)\n",
    "        elif choice == '4':\n",
    "            manager.sort_students_by_score()\n",
    "            print(\">> Danh sách sau khi sắp xếp:\")\n",
    "            manager.export_student_list()\n",
    "        elif choice == '5':\n",
    "            print(\"👋 Cảm ơn đã sử dụng chương trình. Tạm biệt!\")\n",
    "            break\n",
    "        else:\n",
    "            print(\"❌ Lựa chọn không hợp lệ. Vui lòng chọn từ 1 đến 5.\")\n"
   ],
   "outputs": [
    {
     "name": "stdout",
     "output_type": "stream",
     "text": [
      "\n",
      "============ MENU ============\n",
      "1. Nhập danh sách sinh viên\n",
      "2. Xuất thông tin danh sách sinh viên\n",
      "3. Xuất danh sách sinh viên có học lực giỏi\n",
      "4. Sắp xếp danh sách sinh viên theo điểm\n",
      "5. Kết thúc\n",
      "==============================\n",
      "\n",
      "--- Thêm sinh viên mới ---\n",
      "Đã thêm sinh viên: Thinh\n",
      "\n",
      "============ MENU ============\n",
      "1. Nhập danh sách sinh viên\n",
      "2. Xuất thông tin danh sách sinh viên\n",
      "3. Xuất danh sách sinh viên có học lực giỏi\n",
      "4. Sắp xếp danh sách sinh viên theo điểm\n",
      "5. Kết thúc\n",
      "==============================\n",
      "\n",
      "--- Thêm sinh viên mới ---\n",
      "Ngành 'design' không hợp lệ.\n",
      "\n",
      "============ MENU ============\n",
      "1. Nhập danh sách sinh viên\n",
      "2. Xuất thông tin danh sách sinh viên\n",
      "3. Xuất danh sách sinh viên có học lực giỏi\n",
      "4. Sắp xếp danh sách sinh viên theo điểm\n",
      "5. Kết thúc\n",
      "==============================\n",
      "\n",
      "--- Thêm sinh viên mới ---\n",
      "Đã thêm sinh viên: Han\n",
      "\n",
      "============ MENU ============\n",
      "1. Nhập danh sách sinh viên\n",
      "2. Xuất thông tin danh sách sinh viên\n",
      "3. Xuất danh sách sinh viên có học lực giỏi\n",
      "4. Sắp xếp danh sách sinh viên theo điểm\n",
      "5. Kết thúc\n",
      "==============================\n",
      "\n",
      "--- Thêm sinh viên mới ---\n",
      "Ngành '5' không hợp lệ.\n",
      "\n",
      "============ MENU ============\n",
      "1. Nhập danh sách sinh viên\n",
      "2. Xuất thông tin danh sách sinh viên\n",
      "3. Xuất danh sách sinh viên có học lực giỏi\n",
      "4. Sắp xếp danh sách sinh viên theo điểm\n",
      "5. Kết thúc\n",
      "==============================\n",
      "\n",
      "--- Thêm sinh viên mới ---\n",
      "Đã thêm sinh viên: Meo\n",
      "\n",
      "============ MENU ============\n",
      "1. Nhập danh sách sinh viên\n",
      "2. Xuất thông tin danh sách sinh viên\n",
      "3. Xuất danh sách sinh viên có học lực giỏi\n",
      "4. Sắp xếp danh sách sinh viên theo điểm\n",
      "5. Kết thúc\n",
      "==============================\n",
      "\n",
      "--- Danh sách sinh viên ---\n",
      "Sinh viên #1:\n",
      "  - Họ và tên: Thinh\n",
      "  - Ngành: IT\n",
      "  - Điểm TB: 7.75\n",
      "  - Học lực: Khá\n",
      "  - Điểm Java: 10.0\n",
      "  - Điểm HTML: 10.0\n",
      "  - Điểm Css: 1.0\n",
      "--------------------\n",
      "Sinh viên #2:\n",
      "  - Họ và tên: Han\n",
      "  - Ngành: Sales\n",
      "  - Điểm TB: 7.0\n",
      "  - Học lực: Khá\n",
      "  - Điểm Marketing: 10.0\n",
      "  - Điểm Sales: 1.0\n",
      "--------------------\n",
      "Sinh viên #3:\n",
      "  - Họ và tên: Meo\n",
      "  - Ngành: Sales\n",
      "  - Điểm TB: 1.0\n",
      "  - Học lực: Yếu\n",
      "  - Điểm Marketing: 1.0\n",
      "  - Điểm Sales: 1.0\n",
      "--------------------\n",
      "\n",
      "============ MENU ============\n",
      "1. Nhập danh sách sinh viên\n",
      "2. Xuất thông tin danh sách sinh viên\n",
      "3. Xuất danh sách sinh viên có học lực giỏi\n",
      "4. Sắp xếp danh sách sinh viên theo điểm\n",
      "5. Kết thúc\n",
      "==============================\n",
      "\n",
      "--- DANH SÁCH SINH VIÊN HỌC LỰC GIỎI ---\n",
      ">> Không có sinh viên nào đạt học lực Giỏi.\n",
      "\n",
      "============ MENU ============\n",
      "1. Nhập danh sách sinh viên\n",
      "2. Xuất thông tin danh sách sinh viên\n",
      "3. Xuất danh sách sinh viên có học lực giỏi\n",
      "4. Sắp xếp danh sách sinh viên theo điểm\n",
      "5. Kết thúc\n",
      "==============================\n",
      "\n",
      "Đã sắp xếp danh sách sinh viên theo điểm số giảm dần.\n",
      ">> Danh sách sau khi sắp xếp:\n",
      "\n",
      "--- Danh sách sinh viên ---\n",
      "Sinh viên #1:\n",
      "  - Họ và tên: Thinh\n",
      "  - Ngành: IT\n",
      "  - Điểm TB: 7.75\n",
      "  - Học lực: Khá\n",
      "  - Điểm Java: 10.0\n",
      "  - Điểm HTML: 10.0\n",
      "  - Điểm Css: 1.0\n",
      "--------------------\n",
      "Sinh viên #2:\n",
      "  - Họ và tên: Han\n",
      "  - Ngành: Sales\n",
      "  - Điểm TB: 7.0\n",
      "  - Học lực: Khá\n",
      "  - Điểm Marketing: 10.0\n",
      "  - Điểm Sales: 1.0\n",
      "--------------------\n",
      "Sinh viên #3:\n",
      "  - Họ và tên: Meo\n",
      "  - Ngành: Sales\n",
      "  - Điểm TB: 1.0\n",
      "  - Học lực: Yếu\n",
      "  - Điểm Marketing: 1.0\n",
      "  - Điểm Sales: 1.0\n",
      "--------------------\n",
      "\n",
      "============ MENU ============\n",
      "1. Nhập danh sách sinh viên\n",
      "2. Xuất thông tin danh sách sinh viên\n",
      "3. Xuất danh sách sinh viên có học lực giỏi\n",
      "4. Sắp xếp danh sách sinh viên theo điểm\n",
      "5. Kết thúc\n",
      "==============================\n",
      "👋 Cảm ơn đã sử dụng chương trình. Tạm biệt!\n"
     ]
    }
   ],
   "execution_count": 8
  },
  {
   "cell_type": "markdown",
   "id": "e2b41d4a",
   "metadata": {},
   "source": [
    "## Lab 6 - Bài 5: bài tập làm thêm"
   ]
  },
  {
   "cell_type": "code",
   "id": "0e0172f7",
   "metadata": {
    "ExecuteTime": {
     "end_time": "2025-10-18T04:00:57.525434Z",
     "start_time": "2025-10-18T04:00:57.484890Z"
    }
   },
   "source": [
    "# code lab 6  bài làm thêm ở đây\n",
    "from dat2011_little_fox28.src.python.Bank.Menu.menu import BanKMenu\n",
    "\n",
    "menu = BanKMenu()\n",
    "menu.run()"
   ],
   "outputs": [
    {
     "ename": "IndentationError",
     "evalue": "expected an indented block after function definition on line 231 (menu_service.py, line 232)",
     "output_type": "error",
     "traceback": [
      "Traceback \u001B[36m(most recent call last)\u001B[39m:\n",
      "  File \u001B[92m~\\AppData\\Local\\Programs\\Python\\Python313\\Lib\\site-packages\\IPython\\core\\interactiveshell.py:3699\u001B[39m in \u001B[95mrun_code\u001B[39m\n    exec(code_obj, self.user_global_ns, self.user_ns)\n",
      "  Cell \u001B[92mIn[1]\u001B[39m\u001B[92m, line 2\u001B[39m\n    from dat2011_little_fox28.src.python.Bank.Menu.menu import BanKMenu\n",
      "\u001B[36m  \u001B[39m\u001B[36mFile \u001B[39m\u001B[32m~\\Desktop\\Learn\\FPT\\DAT-2011-Python\\Bài LAB\\dat2011_little_fox28\\src\\python\\Bank\\Menu\\menu.py:1\u001B[39m\n\u001B[31m    \u001B[39m\u001B[31mfrom dat2011_little_fox28.src.python.Bank.Menu.menu_service import MenuService\u001B[39m\n",
      "  \u001B[36mFile \u001B[39m\u001B[32m~\\Desktop\\Learn\\FPT\\DAT-2011-Python\\Bài LAB\\dat2011_little_fox28\\src\\python\\Bank\\Menu\\menu_service.py:232\u001B[39m\n\u001B[31m    \u001B[39m\u001B[31mbackup_dir = os.path.join(os.path.dirname(os.path.dirname(os.path.abspath(__file__))), 'backup')\u001B[39m\n                                                                                                    ^\n\u001B[31mIndentationError\u001B[39m\u001B[31m:\u001B[39m expected an indented block after function definition on line 231\n"
     ]
    }
   ],
   "execution_count": 1
  }
 ],
 "metadata": {
  "kernelspec": {
   "display_name": "Python 3",
   "language": "python",
   "name": "python3"
  },
  "language_info": {
   "name": "python",
   "version": "3.13.7"
  }
 },
 "nbformat": 4,
 "nbformat_minor": 5
}
