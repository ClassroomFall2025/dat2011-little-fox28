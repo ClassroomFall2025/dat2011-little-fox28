{
 "cells": [
  {
   "cell_type": "markdown",
   "id": "fdeff819",
   "metadata": {},
   "source": [
    "# Sinh Viên thực hiện Lab 3 ở Đây"
   ]
  },
  {
   "cell_type": "markdown",
   "id": "acc5d7dc",
   "metadata": {},
   "source": [
    "## Lab 3 - Bài 1"
   ]
  },
  {
   "cell_type": "code",
   "id": "001e0507",
   "metadata": {},
   "source": [
    "from dat2011_little_fox28.src.python.calculation import get_time\n",
    "from dat2011_little_fox28.src.utils.highlight import highlight_error, highlight_text\n",
    "\n",
    "# Code lab 3 bài 1 ở đây\n",
    "day_so = [9, 59, 21, 9, 20, 23, 19, 12, 19, 77]\n",
    "\n",
    "# Advance\n",
    "def sort_list(sort_by: str = \"ASC\")-> None:\n",
    "    if sort_by == \"DESC\":\n",
    "        day_so.reverse()\n",
    "        print(day_so)\n",
    "        print(f\"- Số bé nhất là: {day_so[-1]} tại vị trí số: {len(day_so)}\")\n",
    "        return\n",
    "    day_so.sort()\n",
    "    print(day_so)\n",
    "    print(f\"- Số bé nhất là: {day_so[0]} tại tại vị trí số: 1\")\n",
    "\n",
    "sort_list()\n",
    "\n",
    "def sum_average(devise_num: int) -> None:\n",
    "    sum_avg: int = 0\n",
    "    divisible_numbers = 0\n",
    "    for num in day_so:\n",
    "        if num % devise_num == 0:\n",
    "            divisible_numbers += 1\n",
    "            sum_avg += num\n",
    "    print(f\"- Số lượng các số có thể chia hết cho {devise_num}: {divisible_numbers}\")\n",
    "    print(f\"- Trung bình cộng các số chia hết cho {devise_num}: {sum_avg}\")\n",
    "sum_average(3)\n",
    "\n",
    "sort_list(\"DESC\")\n"
   ],
   "outputs": [],
   "execution_count": null
  },
  {
   "cell_type": "markdown",
   "id": "c0835310",
   "metadata": {},
   "source": [
    "## Lab 3 - Bài 2"
   ]
  },
  {
   "cell_type": "code",
   "id": "fa9cb39f",
   "metadata": {},
   "source": [
    "from dat2011_little_fox28.src.utils.handle_input_for_string import HandleInputForString\n",
    "\n",
    "class Student:\n",
    "    def __init__(self, full_name: str, grade: float):\n",
    "        self.full_name = full_name\n",
    "        self.grade = grade\n",
    "        self._rank = None\n",
    "\n",
    "    @property\n",
    "    def full_name(self) -> str:\n",
    "        return self._full_name\n",
    "\n",
    "    @full_name.setter\n",
    "    def full_name(self, new_name: str) -> None:\n",
    "        if not isinstance(new_name, str) or len(new_name.strip()) == 0:\n",
    "            raise ValueError(\"Tên không được để trống.\")\n",
    "        self._full_name = new_name.strip()\n",
    "\n",
    "    @property\n",
    "    def grade(self) -> float:\n",
    "        return self._grade\n",
    "\n",
    "    @grade.setter\n",
    "    def grade(self, new_grade: float) -> None:\n",
    "        try:\n",
    "            value = float(new_grade)\n",
    "            if not (0 <= value <= 10):\n",
    "                raise ValueError(\"Điểm phải nằm trong khoảng 0-10.\")\n",
    "            self._grade = value\n",
    "            self.calculate_ranking()\n",
    "        except ValueError:\n",
    "            raise ValueError(\"Điểm phải là số thực từ 0-10.\")\n",
    "\n",
    "    @property\n",
    "    def rank(self) -> str:\n",
    "        return self._rank\n",
    "\n",
    "    def calculate_ranking(self) -> None:\n",
    "        if self.grade < 5:\n",
    "            self._rank = \"Yếu\"\n",
    "        elif self.grade < 7:\n",
    "            self._rank = \"Trung bình\"\n",
    "        elif self.grade < 8:\n",
    "            self._rank = \"Khá\"\n",
    "        elif self.grade < 9:\n",
    "            self._rank = \"Giỏi\"\n",
    "        else:\n",
    "            self._rank = \"Xuất sắc\"\n",
    "\n",
    "    def __str__(self) -> str:\n",
    "        return f\"Học sinh {self.full_name} đạt điểm {self.grade:.1f} xếp loại {self.rank}\"\n",
    "\n",
    "# Main program\n",
    "student_storage: list[Student] = []\n",
    "handle_input = HandleInputForString()\n",
    "\n",
    "try:\n",
    "    while True:\n",
    "        handle_input.handle_input(2, [\"Nhập họ và tên: \", \"Nhập điểm (0-10): \"])\n",
    "        name = handle_input.getter_x()\n",
    "        try:\n",
    "            grade = float(handle_input.getter_y())\n",
    "            student = Student(name, grade)\n",
    "            student_storage.append(student)\n",
    "        except ValueError as e:\n",
    "            print(f\"Lỗi: {e}\")\n",
    "            continue\n",
    "\n",
    "        cont = str(input(\"Nhập thêm học sinh? (y/n): \")).lower()\n",
    "        if cont != 'y':\n",
    "            break\n",
    "\n",
    "    print(\"\\nDanh sách học sinh:\")\n",
    "    for student in student_storage:\n",
    "        print(student)\n",
    "\n",
    "except Exception as e:\n",
    "    print(f\"Lỗi: {e}\")\n"
   ],
   "outputs": [],
   "execution_count": null
  },
  {
   "cell_type": "markdown",
   "id": "0f2483fe",
   "metadata": {},
   "source": [
    "## Lab 3 - Bài 3"
   ]
  },
  {
   "cell_type": "code",
   "id": "7034990b",
   "metadata": {},
   "source": [
    "# Code lab 3  bài 3 ở đây\n",
    "from dat2011_little_fox28.src.utils.highlight import *\n",
    "\n",
    "def is_prime(num) -> bool:\n",
    "    if num < 2: return False\n",
    "    for i in range(2, num):\n",
    "        if num % i == 0:\n",
    "            return False\n",
    "    return True\n",
    "\n",
    "for i in range(1,21):\n",
    "    if is_prime(i):\n",
    "        print(f\"{i} là số nguyên tố\")\n",
    "    else:\n",
    "        print(highlight_error(f\"{i} không phải là số nguyên\"))"
   ],
   "outputs": [],
   "execution_count": null
  },
  {
   "cell_type": "markdown",
   "id": "d36ea3d3",
   "metadata": {},
   "source": [
    "## Lab 3 - Bài 4"
   ]
  },
  {
   "cell_type": "code",
   "id": "4c707ec1",
   "metadata": {},
   "source": [
    "# code lab 3 bài 4 ở đây\n",
    "table: list[int] = [x for x in range(1,10)]\n",
    "\n",
    "def multiplication() -> None:\n",
    "    num: int = 1\n",
    "    for i in range(len(table)):\n",
    "        line_output = \"\"\n",
    "        while num <= 9:\n",
    "            line_output += f\"{table[i]} x {num} = {table[i] * num}\\t\"\n",
    "            num += 1\n",
    "        num = 1\n",
    "        print(line_output)\n",
    "\n",
    "multiplication()"
   ],
   "outputs": [],
   "execution_count": null
  },
  {
   "cell_type": "markdown",
   "id": "e2b41d4a",
   "metadata": {},
   "source": [
    "## Lab 3 - Bài 5: bài tập làm thêm"
   ]
  },
  {
   "cell_type": "code",
   "id": "0e0172f7",
   "metadata": {},
   "source": [
    "# code lab 3  bài làm thêm ở đây\n",
    "from dat2011_little_fox28.src.python.menu import menu\n",
    "\n",
    "menu()"
   ],
   "outputs": [],
   "execution_count": null
  }
 ],
 "metadata": {
  "kernelspec": {
   "display_name": "Python 3",
   "language": "python",
   "name": "python3"
  },
  "language_info": {
   "codemirror_mode": {
    "name": "ipython",
    "version": 3
   },
   "file_extension": ".py",
   "mimetype": "text/x-python",
   "name": "python",
   "nbconvert_exporter": "python",
   "pygments_lexer": "ipython3",
   "version": "3.13.7"
  }
 },
 "nbformat": 4,
 "nbformat_minor": 5
}
