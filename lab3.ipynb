{
 "cells": [
  {
   "cell_type": "markdown",
   "id": "fdeff819",
   "metadata": {},
   "source": [
    "# Sinh Viên thực hiện Lab 3 ở Đây"
   ]
  },
  {
   "cell_type": "markdown",
   "id": "acc5d7dc",
   "metadata": {},
   "source": [
    "## Lab 3 - Bài 1"
   ]
  },
  {
   "cell_type": "code",
   "id": "001e0507",
   "metadata": {
    "ExecuteTime": {
     "end_time": "2025-09-28T11:33:35.700773Z",
     "start_time": "2025-09-28T11:33:35.692732Z"
    }
   },
   "source": [
    "from dat2011_little_fox28.src.utils.highlight import highlight_error, highlight_text\n",
    "\n",
    "# Code lab 3 bài 1 ở đây\n",
    "day_so = [9, 59, 21, 9, 20, 23, 19, 12, 19, 77]\n",
    "\n",
    "# Advance\n",
    "def sort_list(sort_by: str = \"ASC\")-> None:\n",
    "    if sort_by == \"DESC\":\n",
    "        day_so.reverse()\n",
    "        print(day_so)\n",
    "        print(f\"- Số bé nhất là: {day_so[-1]} tại vị trí số: {len(day_so)}\")\n",
    "        return\n",
    "    day_so.sort()\n",
    "    print(day_so)\n",
    "    print(f\"- Số bé nhất là: {day_so[0]} tại tại vị trí số: 1\")\n",
    "\n",
    "sort_list()\n",
    "\n",
    "def sum_average(devise_num: int) -> None:\n",
    "    sum_avg: int = 0\n",
    "    divisible_numbers = 0\n",
    "    for num in day_so:\n",
    "        if num % devise_num == 0:\n",
    "            divisible_numbers += 1\n",
    "            sum_avg += num\n",
    "    print(f\"- Số lượng các số có thể chia hết cho {devise_num}: {divisible_numbers}\")\n",
    "    print(f\"- Trung bình cộng các số chia hết cho {devise_num}: {sum_avg}\")\n",
    "sum_average(3)\n",
    "\n",
    "sort_list(\"DESC\")\n"
   ],
   "outputs": [
    {
     "name": "stdout",
     "output_type": "stream",
     "text": [
      "[9, 9, 12, 19, 19, 20, 21, 23, 59, 77]\n",
      "- Số bé nhất là: 9 tại tại vị trí số: 1\n",
      "- Số lượng các số có thể chia hết cho 3: 4\n",
      "- Trung bình cộng các số chia hết cho 3: 51\n",
      "[77, 59, 23, 21, 20, 19, 19, 12, 9, 9]\n",
      "- Số bé nhất là: 9 tại vị trí số: 10\n"
     ]
    }
   ],
   "execution_count": 6
  },
  {
   "cell_type": "markdown",
   "id": "c0835310",
   "metadata": {},
   "source": [
    "## Lab 3 - Bài 2"
   ]
  },
  {
   "cell_type": "code",
   "id": "fa9cb39f",
   "metadata": {
    "ExecuteTime": {
     "end_time": "2025-09-28T11:30:06.933942Z",
     "start_time": "2025-09-28T11:28:51.270675Z"
    }
   },
   "source": [
    "from dat2011_little_fox28.src.utils.handle_input_for_string import HandleInputForString\n",
    "\n",
    "class Student:\n",
    "    def __init__(self, full_name: str, grade: float):\n",
    "        self.full_name = full_name\n",
    "        self.grade = grade\n",
    "        self._rank = None\n",
    "\n",
    "    @property\n",
    "    def full_name(self) -> str:\n",
    "        return self._full_name\n",
    "\n",
    "    @full_name.setter\n",
    "    def full_name(self, new_name: str) -> None:\n",
    "        if not isinstance(new_name, str) or len(new_name.strip()) == 0:\n",
    "            raise ValueError(\"Tên không được để trống.\")\n",
    "        self._full_name = new_name.strip()\n",
    "\n",
    "    @property\n",
    "    def grade(self) -> float:\n",
    "        return self._grade\n",
    "\n",
    "    @grade.setter\n",
    "    def grade(self, new_grade: float) -> None:\n",
    "        try:\n",
    "            value = float(new_grade)\n",
    "            if not (0 <= value <= 10):\n",
    "                raise ValueError(\"Điểm phải nằm trong khoảng 0-10.\")\n",
    "            self._grade = value\n",
    "            self.calculate_ranking()\n",
    "        except ValueError:\n",
    "            raise ValueError(\"Điểm phải là số thực từ 0-10.\")\n",
    "\n",
    "    @property\n",
    "    def rank(self) -> str:\n",
    "        return self._rank\n",
    "\n",
    "    def calculate_ranking(self) -> None:\n",
    "        if self.grade < 5:\n",
    "            self._rank = \"Yếu\"\n",
    "        elif self.grade < 7:\n",
    "            self._rank = \"Trung bình\"\n",
    "        elif self.grade < 8:\n",
    "            self._rank = \"Khá\"\n",
    "        elif self.grade < 9:\n",
    "            self._rank = \"Giỏi\"\n",
    "        else:\n",
    "            self._rank = \"Xuất sắc\"\n",
    "\n",
    "    def __str__(self) -> str:\n",
    "        return f\"Học sinh {self.full_name} đạt điểm {self.grade:.1f} xếp loại {self.rank}\"\n",
    "\n",
    "# Main program\n",
    "student_storage: list[Student] = []\n",
    "handle_input = HandleInputForString()\n",
    "\n",
    "try:\n",
    "    while True:\n",
    "        handle_input.handle_input(2, [\"Nhập họ và tên: \", \"Nhập điểm (0-10): \"])\n",
    "        name = handle_input.getter_x()\n",
    "        try:\n",
    "            grade = float(handle_input.getter_y())\n",
    "            student = Student(name, grade)\n",
    "            student_storage.append(student)\n",
    "        except ValueError as e:\n",
    "            print(f\"Lỗi: {e}\")\n",
    "            continue\n",
    "\n",
    "        cont = str(input(\"Nhập thêm học sinh? (y/n): \")).lower()\n",
    "        if cont != 'y':\n",
    "            break\n",
    "\n",
    "    print(\"\\nDanh sách học sinh:\")\n",
    "    for student in student_storage:\n",
    "        print(student)\n",
    "\n",
    "except Exception as e:\n",
    "    print(f\"Lỗi: {e}\")\n"
   ],
   "outputs": [
    {
     "name": "stdout",
     "output_type": "stream",
     "text": [
      "\n",
      "Danh sách học sinh:\n",
      "Học sinh Tran hung thinh đạt điểm 1.0 xếp loại Yếu\n",
      "Học sinh Tran Ngoc Han đạt điểm 5.0 xếp loại Trung bình\n",
      "Học sinh Tran Hung Phat đạt điểm 9.0 xếp loại Xuất sắc\n"
     ]
    }
   ],
   "execution_count": 5
  },
  {
   "cell_type": "markdown",
   "id": "0f2483fe",
   "metadata": {},
   "source": [
    "## Lab 3 - Bài 3"
   ]
  },
  {
   "cell_type": "code",
   "id": "7034990b",
   "metadata": {
    "ExecuteTime": {
     "end_time": "2025-09-29T08:46:53.601074Z",
     "start_time": "2025-09-29T08:46:53.593831Z"
    }
   },
   "source": [
    "# Code lab 3  bài 3 ở đây\n",
    "from dat2011_little_fox28.src.utils.highlight import *\n",
    "\n",
    "def is_prime(num) -> bool:\n",
    "    if num < 2: return False\n",
    "    for i in range(2, num):\n",
    "        if num % i == 0:\n",
    "            return False\n",
    "    return True\n",
    "\n",
    "for i in range(1,21):\n",
    "    if is_prime(i):\n",
    "        print(f\"{i} là số nguyên tố\")\n",
    "    else:\n",
    "        print(highlight_error(f\"{i} không phải là số nguyên\"))"
   ],
   "outputs": [
    {
     "name": "stdout",
     "output_type": "stream",
     "text": [
      "\u001B[37;41m 1 không phải là số nguyên \u001B[0m\n",
      "2 là số nguyên tố\n",
      "3 là số nguyên tố\n",
      "\u001B[37;41m 4 không phải là số nguyên \u001B[0m\n",
      "5 là số nguyên tố\n",
      "\u001B[37;41m 6 không phải là số nguyên \u001B[0m\n",
      "7 là số nguyên tố\n",
      "\u001B[37;41m 8 không phải là số nguyên \u001B[0m\n",
      "\u001B[37;41m 9 không phải là số nguyên \u001B[0m\n",
      "\u001B[37;41m 10 không phải là số nguyên \u001B[0m\n",
      "11 là số nguyên tố\n",
      "\u001B[37;41m 12 không phải là số nguyên \u001B[0m\n",
      "13 là số nguyên tố\n",
      "\u001B[37;41m 14 không phải là số nguyên \u001B[0m\n",
      "\u001B[37;41m 15 không phải là số nguyên \u001B[0m\n",
      "\u001B[37;41m 16 không phải là số nguyên \u001B[0m\n",
      "17 là số nguyên tố\n",
      "\u001B[37;41m 18 không phải là số nguyên \u001B[0m\n",
      "19 là số nguyên tố\n",
      "\u001B[37;41m 20 không phải là số nguyên \u001B[0m\n"
     ]
    }
   ],
   "execution_count": 19
  },
  {
   "cell_type": "markdown",
   "id": "d36ea3d3",
   "metadata": {},
   "source": [
    "## Lab 3 - Bài 4"
   ]
  },
  {
   "cell_type": "code",
   "id": "4c707ec1",
   "metadata": {
    "ExecuteTime": {
     "end_time": "2025-09-29T09:52:49.259802Z",
     "start_time": "2025-09-29T09:52:49.252052Z"
    }
   },
   "source": [
    "# code lab 3 bài 4 ở đây\n",
    "table: list[int] = [x for x in range(1,10)]\n",
    "\n",
    "def multiplication() -> None:\n",
    "    num: int = 1\n",
    "    for i in range(len(table)):\n",
    "        line_output = \"\"\n",
    "        while num <= 9:\n",
    "            line_output += f\"{table[i]} x {num} = {table[i] * num}\\t\"\n",
    "            num += 1\n",
    "        num = 1\n",
    "        print(line_output)\n",
    "\n",
    "multiplication()"
   ],
   "outputs": [
    {
     "name": "stdout",
     "output_type": "stream",
     "text": [
      "1 x 1 = 1\t1 x 2 = 2\t1 x 3 = 3\t1 x 4 = 4\t1 x 5 = 5\t1 x 6 = 6\t1 x 7 = 7\t1 x 8 = 8\t1 x 9 = 9\t\n",
      "2 x 1 = 2\t2 x 2 = 4\t2 x 3 = 6\t2 x 4 = 8\t2 x 5 = 10\t2 x 6 = 12\t2 x 7 = 14\t2 x 8 = 16\t2 x 9 = 18\t\n",
      "3 x 1 = 3\t3 x 2 = 6\t3 x 3 = 9\t3 x 4 = 12\t3 x 5 = 15\t3 x 6 = 18\t3 x 7 = 21\t3 x 8 = 24\t3 x 9 = 27\t\n",
      "4 x 1 = 4\t4 x 2 = 8\t4 x 3 = 12\t4 x 4 = 16\t4 x 5 = 20\t4 x 6 = 24\t4 x 7 = 28\t4 x 8 = 32\t4 x 9 = 36\t\n",
      "5 x 1 = 5\t5 x 2 = 10\t5 x 3 = 15\t5 x 4 = 20\t5 x 5 = 25\t5 x 6 = 30\t5 x 7 = 35\t5 x 8 = 40\t5 x 9 = 45\t\n",
      "6 x 1 = 6\t6 x 2 = 12\t6 x 3 = 18\t6 x 4 = 24\t6 x 5 = 30\t6 x 6 = 36\t6 x 7 = 42\t6 x 8 = 48\t6 x 9 = 54\t\n",
      "7 x 1 = 7\t7 x 2 = 14\t7 x 3 = 21\t7 x 4 = 28\t7 x 5 = 35\t7 x 6 = 42\t7 x 7 = 49\t7 x 8 = 56\t7 x 9 = 63\t\n",
      "8 x 1 = 8\t8 x 2 = 16\t8 x 3 = 24\t8 x 4 = 32\t8 x 5 = 40\t8 x 6 = 48\t8 x 7 = 56\t8 x 8 = 64\t8 x 9 = 72\t\n",
      "9 x 1 = 9\t9 x 2 = 18\t9 x 3 = 27\t9 x 4 = 36\t9 x 5 = 45\t9 x 6 = 54\t9 x 7 = 63\t9 x 8 = 72\t9 x 9 = 81\t\n"
     ]
    }
   ],
   "execution_count": 68
  },
  {
   "cell_type": "markdown",
   "id": "e2b41d4a",
   "metadata": {},
   "source": [
    "## Lab 3 - Bài 5: bài tập làm thêm"
   ]
  },
  {
   "cell_type": "code",
   "id": "0e0172f7",
   "metadata": {},
   "source": [
    "# code lab 3  bài làm thêm ở đây "
   ],
   "outputs": [],
   "execution_count": null
  }
 ],
 "metadata": {
  "kernelspec": {
   "display_name": "Python 3",
   "language": "python",
   "name": "python3"
  },
  "language_info": {
   "codemirror_mode": {
    "name": "ipython",
    "version": 3
   },
   "file_extension": ".py",
   "mimetype": "text/x-python",
   "name": "python",
   "nbconvert_exporter": "python",
   "pygments_lexer": "ipython3",
   "version": "3.13.7"
  }
 },
 "nbformat": 4,
 "nbformat_minor": 5
}
